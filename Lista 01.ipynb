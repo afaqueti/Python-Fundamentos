{
 "cells": [
  {
   "cell_type": "markdown",
   "metadata": {},
   "source": [
    "### Python Fundamentos"
   ]
  },
  {
   "cell_type": "markdown",
   "metadata": {},
   "source": [
    "#### Lista de Exercicios"
   ]
  },
  {
   "cell_type": "markdown",
   "metadata": {},
   "source": [
    "### Prog_18_pag_29"
   ]
  },
  {
   "cell_type": "code",
   "execution_count": null,
   "metadata": {},
   "outputs": [],
   "source": [
    "x = int(input(\"Digite um número para Soma: \"))\n",
    "print(\"Valor de x =\",x+1)"
   ]
  },
  {
   "cell_type": "markdown",
   "metadata": {},
   "source": [
    "### Prog_19_pag_30"
   ]
  },
  {
   "cell_type": "code",
   "execution_count": null,
   "metadata": {},
   "outputs": [],
   "source": [
    "import math\n",
    "print(\"Funções Aritiméticas\")\n",
    "\n",
    "#-----VARIAVEIS------\n",
    "#--------------------\n",
    "\n",
    "#------Usuário Entra com um Valor--------------\n",
    "a=int(input(\"Digite um valor: \")) \n",
    "#----------------------------------------------\n",
    "\n",
    "print(\"\")\n",
    "print(\"---------------------------------------------------------------------------------\")\n",
    "print(\"Raiz quadrada:\",math.sqrt(a))\n",
    "print(\"---------------------------------------------------------------------------------\")\n",
    "print(\"\")\n",
    "print(\"---------------------------------------------------------------------------------\")\n",
    "print(\"Raiz com exp e log, retornando valor interio: \",int(math.exp(1/2*math.log(a))))\n",
    "print(\"---------------------------------------------------------------------------------\")\n",
    "print(\"\")\n",
    "print(\"---------------------------------------------------------------------------------\")\n",
    "print(\"e** Representa expoente: \",math.e**(1/2*math.log(a)))\n",
    "print(\"---------------------------------------------------------------------------------\")\n",
    "print(\"\")\n",
    "print(\"---------------------------------------------------------------------------------\")\n",
    "print(math.sin(45*math.pi/180)+00001.3)\n",
    "print(\"---------------------------------------------------------------------------------\")\n",
    "print(\"\")\n",
    "print(\"---------------------------------------------------------------------------------\")\n",
    "print(\"Potencia com exp e log formatado: \",float(round(math.exp(3*math.log(8)+0001.3))))\n",
    "print(\"---------------------------------------------------------------------------------\")\n",
    "print(\"\")\n",
    "print(\"---------------------------------------------------------------------------------\")\n",
    "print (\"Potencia com exp e log sem formatar: \",math.exp(3*math.log(8)))\n",
    "print(\"---------------------------------------------------------------------------------\")\n",
    "print(\"\")\n",
    "print(\"---------------------------------------------------------------------------------\")\n",
    "print(\"Protencia com operador ** e formatado: \",round(8**3,3))\n",
    "print(\"---------------------------------------------------------------------------------\")\n",
    "print(\"\")\n",
    "print(\"---------------------------------------------------------------------------------\")\n",
    "print(\"Raiz cubica: \",math.exp(1/3*math.log(a)))\n",
    "print(\"---------------------------------------------------------------------------------\")\n",
    "print(\"\")\n",
    "print(\"---------------------------------------------------------------------------------\")\n",
    "print(\"Converter para inteiro 5.5 para:|\",int(round(5.5)),\"|\")\n",
    "print(\"---------------------------------------------------------------------------------\")\n",
    "print(\"\")\n",
    "print(\"---------------------------------------------------------------------------------\")\n",
    "print(\"Converter para inteiro 5.5 para:|\",int(6.5),\"|\")\n",
    "print(\"---------------------------------------------------------------------------------\")\n",
    "print(\"\")\n",
    "print(\"---------------------------------------------------------------------------------\")\n",
    "print(\"Converter para inteiro 6.5 + 0.00001:  |\",round(6.5+0.0001),\"|\")\n",
    "print(\"---------------------------------------------------------------------------------\")\n",
    "print(\"\")\n",
    "print(\"---------------------------------------------------------------------------------\")\n",
    "print(\"Converter para inteiro 5.45: |\",int(5.45),\"|\")\n",
    "print(\"---------------------------------------------------------------------------------\")\n",
    "print(\"\")\n",
    "print(\"---------------------------------------------------------------------------------\")\n",
    "print(\"Converter para inteiro 5.51: |\",int(round(5.51)),\"|\")\n",
    "print(\"---------------------------------------------------------------------------------\")\n",
    "print(\"\")\n",
    "print(\"---------------------------------------------------------------------------------\")\n",
    "print(\"Converter para float(REAL) 87: |\",float(87),\"|\")\n",
    "print(\"---------------------------------------------------------------------------------\")\n",
    "print(\"\")\n",
    "print(\"---------------------------------------------------------------------------------\")\n",
    "print(\"Converter para inteiro 3/4: |\",int(float(round(3/4))),\"|\")\n",
    "print(\"---------------------------------------------------------------------------------\")"
   ]
  },
  {
   "cell_type": "markdown",
   "metadata": {},
   "source": [
    "### Prog_20_pag_31"
   ]
  },
  {
   "cell_type": "code",
   "execution_count": null,
   "metadata": {},
   "outputs": [],
   "source": [
    "print(\"Funções\")\n",
    "a = str(input(\"Digite a primeira palavra:\"))\n",
    "b = str(input(\"Digite a segunda palavra\"))\n",
    "c = str\n",
    "c1 = str\n",
    "print(\"--------------------------------------------------------------\")\n",
    "print(\"Retorna o número de caractere:\",len(a),len(b))\n",
    "print(\"--------------------------------------------------------------\")\n",
    "\n",
    "print(\"\")\n",
    "print(\"--------------------------------------------------------------\")\n",
    "print(a+b)\n",
    "print(\"--------------------------------------------------------------\")\n",
    "\n",
    "print(\"\")\n",
    "print(\"--------------------------------------------------------------\")\n",
    "c = b\n",
    "print(\"Variavel |c| irá receber 'a':\",c)\n",
    "print(\"--------------------------------------------------------------\")\n",
    "\n",
    "print(\"\")\n",
    "c1 = c+b\n",
    "print (\"Resultado: \",c1)\n",
    "print(\"--------------------------------------------------------------\")\n",
    "\n",
    "print(\"\")\n",
    "print(\"--------------------------------------------------------------\")\n",
    "print(\"Reultado da função |a[0]|, retorna a primeira letra digitada:\",a[0])\n",
    "print(\"--------------------------------------------------------------\")\n",
    "\n",
    "print(\"\")\n",
    "print(\"--------------------------------------------------------------\")\n",
    "print(\"Resultado da função |a[-1]| , retornaa ultima letra digitada:\",a[-1])\n",
    "print(\"--------------------------------------------------------------\")\n",
    "\n",
    "print(\"\")\n",
    "print(\"--------------------------------------------------------------\")\n",
    "print(\"Todas as letras menos a Primeira:\",a[1:len(a)])\n",
    "print(\"--------------------------------------------------------------\")\n",
    "\n",
    "print(\"\")\n",
    "print(\"--------------------------------------------------------------\")\n",
    "print(\"Somente o 3ª elemento:\",a[2:3])\n",
    "print(\"--------------------------------------------------------------\")\n",
    "\n",
    "print(\"\")\n",
    "print(\"--------------------------------------------------------------\")\n",
    "print(\"Soment os 3 primeiros elemento:\",a[0:3])\n",
    "print(\"--------------------------------------------------------------\")\n",
    "\n",
    "print(\"\")\n",
    "print(\"--------------------------------------------------------------\")\n",
    "print(\"Soment os 3 ultimos elemento:\",a[-3:],b[-3:])\n",
    "print(\"--------------------------------------------------------------\")"
   ]
  },
  {
   "cell_type": "markdown",
   "metadata": {},
   "source": [
    "### Prog_21_pag_32"
   ]
  },
  {
   "cell_type": "code",
   "execution_count": null,
   "metadata": {},
   "outputs": [],
   "source": [
    "print(\"Testando Herarquia\")\n",
    "print(\"======================================================================\")\n",
    "print(\"12 + 5 /2 é igual a: \",12+5/2)\n",
    "print(\"É diferente de (12 + 5) / 2. que é igual a:\",(12+5)/2, \"s; logo. /\")\n",
    "print(\"tem hierarquia maior do + ou -\")\n",
    "print(\"======================================================================\")\n",
    "print(\"\")\n",
    "print(\"======================================================================\")\n",
    "print(\"64**1/4 é igual a:\",64**1/4)\n",
    "print(\"É diferente de 64**(1/4): que é igual a:\",64**(1/4),\"; logo **\")\n",
    "print(\"tem herarquia maior do que * ou /\")\n",
    "print(\"======================================================================\")\n",
    "print(\"\")\n",
    "print(\"======================================================================\")\n",
    "print(\"3*7 % 5 é igual a:\",3*7%5)\n",
    "print(\"É diferente de (3*7)%5, que é igual a:\",(3*7)%5,\"; logo % tem hierarquia\")\n",
    "print(\"maior do que *\")\n",
    "print(\"\")\n",
    "print(\"======================================================================\")\n",
    "print(\"3 * 7 div 5 e igual a:\",3*7//5)\n",
    "print(\"É igual a (3*7) div 5:\",(3*7)//5,\"logo, div tem a mesma hierarquia de ou /\")\n",
    "print(\"======================================================================\")"
   ]
  },
  {
   "cell_type": "markdown",
   "metadata": {},
   "source": [
    "### Prog_22_pag_33"
   ]
  },
  {
   "cell_type": "code",
   "execution_count": null,
   "metadata": {},
   "outputs": [],
   "source": [
    "print(\"Testando Hierarquia\")\n",
    "print(\"====================================================================\")\n",
    "print(\"20 / 4 div 2 igual a: \",20/4//2)\n",
    "print(\"É igual a (20 / 4) div 2: \",(20/4//2), \"; logo tem a mesma hieraquia da /\")\n",
    "print(\"====================================================================\")\n",
    "print(\"\")\n",
    "print(\"====================================================================\")\n",
    "print(\"30 / 4 div 2 é igual: \",30/4//2)\n",
    "print(\"É igual a (30/4)div 2: \",(30/4)//2, \"; logo div tema a mesma hieraquia da /\")\n",
    "print(\"====================================================================\")\n",
    "print(\"\")\n",
    "print(\"====================================================================\")\n",
    "print(\"7. div 4: \",7.//4)\n",
    "print(\"7 div 4: \",7//4)\n",
    "print(\"6. div 4: \",6.//4)\n",
    "print(\"6 div 4: \",6//4)\n",
    "print(\"====================================================================\")"
   ]
  },
  {
   "cell_type": "markdown",
   "metadata": {},
   "source": [
    "### Prog_24_pag_35"
   ]
  },
  {
   "cell_type": "code",
   "execution_count": null,
   "metadata": {},
   "outputs": [],
   "source": [
    "a = int(input(\"Digite um numero com tres digitos: \"))\n",
    "b = (a//10)%10\n",
    "print(\"Resulta do algsritmos de tres casas: \",b)"
   ]
  },
  {
   "cell_type": "markdown",
   "metadata": {},
   "source": [
    "### Prog_25_pag_36"
   ]
  },
  {
   "cell_type": "code",
   "execution_count": null,
   "metadata": {},
   "outputs": [],
   "source": [
    "#Progrma para separar DIA, MÊS, ANO, em cada linha:\n",
    "\n",
    "print(\"===========================================================\")\n",
    "data = int (input(\"Digite uma data ddmmaa: \"))\n",
    "dia = data // 10000\n",
    "mes = (data % 10000) // 100\n",
    "ano = data % 100\n",
    "print(\"Dia: \", dia)\n",
    "print(\"Mês: \",mes)\n",
    "print(\"Ano: \",ano)\n",
    "print(\"===========================================================\")"
   ]
  },
  {
   "cell_type": "markdown",
   "metadata": {},
   "source": [
    "### Prog_26_pag_36"
   ]
  },
  {
   "cell_type": "code",
   "execution_count": null,
   "metadata": {},
   "outputs": [],
   "source": [
    "#Progrma para separar DIA, MÊS, ANO, em cada linha:\n",
    "\n",
    "print(\"===========================================================\")\n",
    "data = int (input(\"Digite uma data ddmmaa: \"))\n",
    "dia = data // 10000\n",
    "mes = (data % 10000) // 100\n",
    "ano = data % 100\n",
    "ndata = mes *10000 +dia *100+ano\n",
    "print(\"Dia: \", dia)\n",
    "print(\"Mês: \",mes)\n",
    "print(\"Ano: \",ano)\n",
    "print(\"Resultado no formato mmddaa: \",ndata)\n",
    "print(\"===========================================================\")   "
   ]
  },
  {
   "cell_type": "markdown",
   "metadata": {},
   "source": [
    "### Prog_27_pag_37"
   ]
  },
  {
   "cell_type": "code",
   "execution_count": null,
   "metadata": {},
   "outputs": [],
   "source": [
    "print(\"Operadores\")\n",
    "\n",
    "#-----------------Variaveis----------------\n",
    "x = int(input(\"Digite primeiro número: \"))\n",
    "y = int(input(\"Digite segundo número: \"))\n",
    "#------------------------------------------\n",
    "\n",
    "print(\"Novo valor do primeiro numero :\",x+1)\n",
    "print(\"Novo valor do segundo numero :\",y-1)"
   ]
  },
  {
   "cell_type": "markdown",
   "metadata": {},
   "source": [
    "### Prog_28_pag_38"
   ]
  },
  {
   "cell_type": "code",
   "execution_count": null,
   "metadata": {},
   "outputs": [],
   "source": [
    "#EXERCICIOS - LISTA 1\n",
    "\n",
    "#Imprima a mensagem: É PRECISO FAZER TODOS OS ALGORITMOS PARA APRENDER\n",
    "\n",
    "print(\"É PRECISO FAZER TODOS OS ALGORITMOS PARA APRENDER\")"
   ]
  },
  {
   "cell_type": "markdown",
   "metadata": {},
   "source": [
    "### Prog_29_pag_38"
   ]
  },
  {
   "cell_type": "code",
   "execution_count": null,
   "metadata": {},
   "outputs": [],
   "source": [
    "#IMPRIMA SEU NOME\n",
    "\n",
    "nome = str(input(\"Digete seu nome: \"))\n",
    "print(nome)"
   ]
  },
  {
   "cell_type": "markdown",
   "metadata": {},
   "source": [
    "### Prog_30_pag_38"
   ]
  },
  {
   "cell_type": "code",
   "execution_count": null,
   "metadata": {},
   "outputs": [],
   "source": [
    "#CRIAR UM ALGORITMO QUE IMPRIMA O PRODUTO ENTRE 28 e 43 (28*43)\n",
    "\n",
    "print(\"------ Forma 1 de fazer o exercico -----------------\")\n",
    "print(\"O produto entre os dois é:\",int(28*43))\n",
    "\n",
    "print(\"------ Forma 2 de fazer o exercico -----------------\")\n",
    "pro = int\n",
    "pro = 28*43\n",
    "print(\"O produto entre os doi é:\",pro)"
   ]
  },
  {
   "cell_type": "markdown",
   "metadata": {},
   "source": [
    "### Prog_31_pag_39"
   ]
  },
  {
   "cell_type": "code",
   "execution_count": null,
   "metadata": {},
   "outputs": [],
   "source": [
    "#CRIE UM ALGORITMO QUE IMPRIMA A MÉDIA ARITIMETICA ENTRE OS NUMEROS 8,9, E 7\n",
    "\n",
    "print(\"----------------------1ª forma------------------------------\")\n",
    "media  = int\n",
    "media = ((8+9+7)/3)\n",
    "print(\"A media é =\",media)\n",
    "print(\"------------------------------------------------------------\")\n",
    "print(\"\")\n",
    "print(\"----------------------2ª forma------------------------------\")\n",
    "print(\"A media é = \",float((8+9+7)/3))\n",
    "print(\"------------------------------------------------------------\")\n"
   ]
  },
  {
   "cell_type": "markdown",
   "metadata": {},
   "source": [
    "### Prog_32_pag_39"
   ]
  },
  {
   "cell_type": "code",
   "execution_count": null,
   "metadata": {},
   "outputs": [],
   "source": [
    "#LER UM NÚMERO INTEIRO E IMPRIMI-LO\n",
    "\n",
    "num = int(input(\"Digite um número:\"))\n",
    "print(\"Número digitado foi impresso que é:\",num)"
   ]
  },
  {
   "cell_type": "markdown",
   "metadata": {},
   "source": [
    "### Prog_33_pag_39"
   ]
  },
  {
   "cell_type": "code",
   "execution_count": null,
   "metadata": {},
   "outputs": [],
   "source": [
    "#LER DOIS NÚMEROS E IMPRIMI-LOS\n",
    "\n",
    "num1 = int(input(\"Digite o primeiro número:\"))\n",
    "num2 = int(input(\"Digite o segundo numero\"))\n",
    "print(\"Resultado do primeiro número:\",num1)\n",
    "print(\"REsultado do segundo número:\",num2)"
   ]
  },
  {
   "cell_type": "markdown",
   "metadata": {},
   "source": [
    "### Prog_34_pag_39"
   ]
  },
  {
   "cell_type": "code",
   "execution_count": null,
   "metadata": {},
   "outputs": [],
   "source": [
    "#LER UM NÚMEEO INTEIRO E IMPRIMIR SEU SUCESSO E ANTECESSOR\n",
    "\n",
    "num1 = int(input(\"Digite um número:\"))\n",
    "print(\"Resultado sucessor\",num1+1)\n",
    "print(\"Resultado antecessor\",num1-1)"
   ]
  },
  {
   "cell_type": "markdown",
   "metadata": {},
   "source": [
    "### Prog_35_pag_40"
   ]
  },
  {
   "cell_type": "code",
   "execution_count": null,
   "metadata": {},
   "outputs": [],
   "source": [
    "#LER NOME,ENDERÇO E TELEFONE E IMPRIMI-LOS\n",
    "\n",
    "nome = str(input(\"Digite seu nome:\"))\n",
    "endereco = str(input(\"Digeti seu endereço:\"))\n",
    "telefone = int((input(\"Digite seu telefone:\")))\n",
    "print(\"Resultado do nome digitado:\",nome)\n",
    "print(\"Resultado do endereço digitado:\",endereco)\n",
    "print(\"Resultado do telefone digitado:\",telefone)"
   ]
  },
  {
   "cell_type": "markdown",
   "metadata": {},
   "source": [
    "### Prog_36_pag_40"
   ]
  },
  {
   "cell_type": "code",
   "execution_count": null,
   "metadata": {},
   "outputs": [],
   "source": [
    "#LER DOIS NUMEROS INTEIROS E IMPRIMIR A SOMA. ANTES DO RESULTADO, DEVERÁ APARECER\n",
    "# E MENSAGEM: SOMA.\n",
    "\n",
    "num1 = int(input(\"Digite o primeiro número:\"))\n",
    "num2 = int(input(\"Digite o segundo numero:\"))\n",
    "print(\"Resultado da soma é:\",num1 + num2)"
   ]
  },
  {
   "cell_type": "markdown",
   "metadata": {},
   "source": [
    "### Prog_37_pag_40"
   ]
  },
  {
   "cell_type": "code",
   "execution_count": null,
   "metadata": {},
   "outputs": [],
   "source": [
    "#LER DOIS NÚMEROS E IMPRIMIR O PRODUTO\n",
    "\n",
    "num1 = int(input(\"Digite o primeiro numero:\"))\n",
    "num2 = int(input(\"Digite o segundo numero:\"))\n",
    "print(\"Resultado de num1 * num2 =\",num1*num2)"
   ]
  },
  {
   "cell_type": "markdown",
   "metadata": {},
   "source": [
    "### Prog_38_pag_41"
   ]
  },
  {
   "cell_type": "code",
   "execution_count": null,
   "metadata": {},
   "outputs": [],
   "source": [
    "#LER UM NUMERO REAL E IMPRIMIR A TEÇA PARTE DESTE NUMERO\n",
    "\n",
    "print(\"---------1ª forma--------------------------\")\n",
    "n1 = float(input(\"Digite um número real:\"))\n",
    "print(\"A terça parte deste numero é:\",n1/3)\n",
    "\n",
    "print(\"---------2ª forma--------------------------\")\n",
    "n1 = float(input(\"Digite um numero real:\"))\n",
    "rst = float\n",
    "rst = n1/3\n",
    "print(rst)\n"
   ]
  },
  {
   "cell_type": "markdown",
   "metadata": {},
   "source": [
    "### Prog_39_pag_41"
   ]
  },
  {
   "cell_type": "code",
   "execution_count": null,
   "metadata": {},
   "outputs": [],
   "source": [
    "#ENTRAR COM DOI NUMEROS REAIS E IMPRIMIR A MEDIA ARITMETICA COM A MENSAGEM \"MEDIA\"\n",
    "#ANTES DO RESULTADO:\n",
    "\n",
    "print(\"-----------------1ª formato--------------------\")\n",
    "num1 = float(input(\"Digite o primeiro numero:\"))\n",
    "num2 = float(input(\"Digite o segundo numero:\"))\n",
    "print(\"A média é:\",(num1 + num2)/2)\n",
    "print(\"-----------------------------------------------\")"
   ]
  },
  {
   "cell_type": "markdown",
   "metadata": {},
   "source": [
    "### Prog_40_pag_41"
   ]
  },
  {
   "cell_type": "code",
   "execution_count": null,
   "metadata": {},
   "outputs": [],
   "source": [
    "#ENTRAR COM DOIS NÚMEROS INTEIROS E IMPRIMIR A SEGUINTE SAÍDA\n",
    "#DIVIDENTO\n",
    "#DIVISOR\n",
    "#QUOCINETE\n",
    "#RESTO\n",
    "\n",
    "num1 = int(input(\"Digite o dividendo:\"))\n",
    "num2 = int(input(\"Digite o divisor:\"))\n",
    "print(\"Dividendo = \",num1)\n",
    "print(\"Divisor = \",num2)\n",
    "print(\"Quociente = \",num1 // num2)\n",
    "print(\"Resto\",num1 % num2)"
   ]
  },
  {
   "cell_type": "markdown",
   "metadata": {},
   "source": [
    "### Prog_41_pag_42"
   ]
  },
  {
   "cell_type": "code",
   "execution_count": null,
   "metadata": {},
   "outputs": [],
   "source": [
    "#ENTRAR COM QUATRO NUMEROS E IMPRIMA A MÉDIA SABENDO-SE OS PESOS SÃO RESPCTIVAMENTE 1,2,3,E 4\n",
    "\n",
    "num1 = int(input(\"Digite o primeiro numero: \"))\n",
    "num2 = int(input(\"Digite o segundo numero: \"))\n",
    "num3 = int(input(\"Digite o terceiro numero: \"))\n",
    "num4 = int(input(\"Digite o Quarto numero: \"))\n",
    "print(\"A média é = \",(num1*1 + num2*2 + num3*3 + num4*4)/10)"
   ]
  },
  {
   "cell_type": "markdown",
   "metadata": {},
   "source": [
    "### Prog_42_pag_42"
   ]
  },
  {
   "cell_type": "code",
   "execution_count": null,
   "metadata": {},
   "outputs": [],
   "source": [
    "#ENTRE COM UM ÂNGULO EM GRAUS E IMPRIMIR: SENO, COSSENO, TANGENTE,SECANTE, COSSECANTE E COTANGENTE\n",
    "#DESTE ÂNGULO.\n",
    "\n",
    "import math\n",
    "\n",
    "num1 = float(input(\"Digite um ângulo em graus: \"))\n",
    "\n",
    "print(\"Valor de Seno é = \",math.sin(num1))\n",
    "print(\"Valor de Cosseno é = \",math.cos(num1))\n",
    "print(\"Valor da Tangente é =\",math.tan(num1))\n",
    "print(\"Valor da Secante é = \",1/(math.sin(num1)))\n",
    "print(\"Valor do Cossecante é = \",1/(math.cos(num1)))\n",
    "print(\"Valor da Cotangente é = \",1/(math.tan(num1)))"
   ]
  },
  {
   "cell_type": "markdown",
   "metadata": {},
   "source": [
    "### Prog_43_pag_42"
   ]
  },
  {
   "cell_type": "code",
   "execution_count": null,
   "metadata": {},
   "outputs": [],
   "source": [
    "#Entrar com um número e imprimir o logaritmo desse número na base 10\n",
    "\n",
    "import math\n",
    "\n",
    "num1 = int(input(\"Entre com um logaritmo:\"))\n",
    "print(\"O logaritimo desse número na base 10 é = \",(math.log(num1) / math.log(10)))\n"
   ]
  },
  {
   "cell_type": "markdown",
   "metadata": {},
   "source": [
    "### Prog_44_pag_43"
   ]
  },
  {
   "cell_type": "code",
   "execution_count": null,
   "metadata": {},
   "outputs": [],
   "source": [
    "#ENTRE COM O NUMERO E A BASE EM QUE SE DESEJA CALCULAR O LOGARITMO DESSE NÚMERO E IMPRIMI-LO.\n",
    "\n",
    "import math\n",
    "\n",
    "num1 = float(input(\"Digite um número a ser calculado: \"))\n",
    "base = float(input(\"Digite a base a ser calculada: \"))\n",
    "print(\"O logaritmo do numero e da base é = \",math.log(num1) / math.log(base))"
   ]
  },
  {
   "cell_type": "markdown",
   "metadata": {},
   "source": [
    "### Prog_45_pag_43"
   ]
  },
  {
   "cell_type": "code",
   "execution_count": null,
   "metadata": {},
   "outputs": [],
   "source": [
    "#ENTRE COM UM NÚMERO E IMPRIMIR A SEGUINTE SAIDA.\n",
    "#NÚMERO\n",
    "#QUADRADO\n",
    "#RAIZ QUADRADA\n",
    "\n",
    "import math\n",
    "\n",
    "num1 = float(input(\"Digite um número: \",))\n",
    "print(\"Número Digitado = \", num1)\n",
    "print(\"O quadrado é = \",num1**2)\n",
    "print(\"A Raiz Quadrada é = \",math.sqrt(num1))"
   ]
  },
  {
   "cell_type": "markdown",
   "metadata": {},
   "source": [
    "### Prog_46_pag_43"
   ]
  },
  {
   "cell_type": "code",
   "execution_count": null,
   "metadata": {},
   "outputs": [],
   "source": [
    "#FAZER UM ALGORITMO QUE POSSA ENTRAR COM O SALDO DE UMA APLICAÇÃO E IMPRIMA O\n",
    "#NOVO SALDO, CONSIDERANDO O REAJUSTE DE 1%.\n",
    "\n",
    "import math\n",
    "\n",
    "saldo = int(input(\"Digite o Saldo: \"))\n",
    "print(\"O novo saldo é = \",(saldo*1.01))"
   ]
  },
  {
   "cell_type": "markdown",
   "metadata": {},
   "source": [
    "### Prog_47_pag_44"
   ]
  },
  {
   "cell_type": "code",
   "execution_count": null,
   "metadata": {},
   "outputs": [],
   "source": [
    "#ENTRAR COM UM NÚMERO NO FORMATO CDU E IMPRIMIR IVERTIDO UDC.\n",
    "#(EXEMPLO 123, SAIRÁ 321). O NÚMERO DEVERÁ SER ARMAZENADO EM OUTRA VARIAVEL\n",
    "#ANTES DE SER IMPRESSO.\n",
    "\n",
    "num1 = int((input(\"Digite um numero conforme a mascará '999' \")))\n",
    "num = int\n",
    "c = int\n",
    "d = int\n",
    "u = int\n",
    "print(\"Numero digitado é = \",num1)\n",
    "c = num1 // 100\n",
    "d = num1 % 100 // 10\n",
    "u = num1 % 10\n",
    "num = u*100 + d*10 + c\n",
    "print(\"Número invertido é = \",num)"
   ]
  },
  {
   "cell_type": "markdown",
   "metadata": {},
   "source": [
    "### - Prog_48_pag_44"
   ]
  },
  {
   "cell_type": "code",
   "execution_count": null,
   "metadata": {},
   "outputs": [],
   "source": [
    "#Antes de o racionamento de energia ser decratado. quase niguém falava em\n",
    "#quilowatts; mas agora todos incorporaram a palavra em seu vocabulario.\n",
    "#Sabendo-se que 100 quilowatts custa um setimo do salario minimo, fazer um \n",
    "#algorismo que receba o valor do sálario minimo e a quantidade de quilowatts\n",
    "#gasta por uma residencia e calcule. imprima.\n",
    "\n",
    "#O valor em reais de cada quilowatts\n",
    "#O valor em reias a ser pago\n",
    "#O novo valor a ser pago por essa residencia com um desconte de 10%\n",
    "\n",
    "\n",
    "sal = int(input(\"Digite o valor do salario minimo: \"))\n",
    "qwts = int(input(\"Digite a quantidade de quilowatts: \"))\n",
    "preco = int\n",
    "vp = int\n",
    "vd = int\n",
    "preco = sal/700\n",
    "vp = preco*qwts\n",
    "vd = vp*10/100\n",
    "print(\"Salario minimo: |R$:\",sal,\"| Quantidade em quilowatts:\",round(preco, ndigits=2))\n",
    "print(\"Valor a ser pago R$:\",round(vp, ndigits=2))\n",
    "print(\"Valor com desconto de 10% R$:\",round(vd, ndigits=2))"
   ]
  },
  {
   "cell_type": "markdown",
   "metadata": {},
   "source": [
    "### Prog_49_pag_45"
   ]
  },
  {
   "cell_type": "code",
   "execution_count": null,
   "metadata": {},
   "outputs": [],
   "source": [
    "#ENTRE COM UM NOME E IMPRIMIR:\n",
    "\n",
    "#TODO O NOME\n",
    "#PRIMEIRO CARACTERE\n",
    "#ULTIMO CARACTERE\n",
    "#DO PRIMEIRO ATÉ O TERCEIRO\n",
    "#QUARTO CARACTER\n",
    "#TODOS NEMOS O PRIMEIRO\n",
    "#OS DOIS ULTIMOS\n",
    "\n",
    "nome = str(input(\"Digite um nome: \"))\n",
    "print(\"Nome Digitado: \",nome)\n",
    "print(\"Primeiro Carcter do nome digitado: \",nome[0])\n",
    "print(\"Ultimo caracter do nome digitado: \",nome[-1])\n",
    "print(\"Do primeiro até o terceiro referente ao nome digitado: \",nome[0:3])\n",
    "print(\"Quarto caractere digitados: \",nome[3:4])\n",
    "print(\"Todos menos o primeiro caracteres digitados: \",nome[1:len(nome)])\n",
    "print(\"Os dois ultimos caracteres digitados: \",nome[-2:len(nome)])"
   ]
  },
  {
   "cell_type": "markdown",
   "metadata": {},
   "source": [
    "### Prog_50_pag_45"
   ]
  },
  {
   "cell_type": "markdown",
   "metadata": {},
   "source": [
    "#### usado ndigits para definir o nummero de digitos casa decimais"
   ]
  },
  {
   "cell_type": "code",
   "execution_count": null,
   "metadata": {},
   "outputs": [],
   "source": [
    "#ENTRAR COM A BASE E A ALTURA DE UM RETÂNGULO E IMPRIMIA SEGUINTE SAIDA:\n",
    "\n",
    "#PERIMETRO\n",
    "#AREA\n",
    "#DIAGONAL\n",
    "\n",
    "import math\n",
    "\n",
    "base = float(input(\"Digite uma base: \"))\n",
    "alt = float(input(\"Digite uma altura: \"))\n",
    "print(\"Valor do perimetro é = \",2*(base + alt))\n",
    "print(\"Valor da área é = \",base*alt)\n",
    "print(\"Valor da diagonal é = \",round(math.sqrt(base**2 + alt**2),ndigits=3))"
   ]
  },
  {
   "cell_type": "markdown",
   "metadata": {},
   "source": [
    "### Prog_51_pag_45"
   ]
  },
  {
   "cell_type": "code",
   "execution_count": null,
   "metadata": {},
   "outputs": [],
   "source": [
    "#ENTRE COM O RAIO DE UM CIRCULO E IMPRIMA A SEGUINTE SAIDA:\n",
    "\n",
    "#PERIMETRO\n",
    "#AREA\n",
    "\n",
    "import math\n",
    "\n",
    "raio = float(input(\"Digite o Raio: \"))\n",
    "print(\"O valor do perimetro é = \",2*math.pi*raio)\n",
    "print(\"O valor da Área é = \",math.pi*raio**2)"
   ]
  },
  {
   "cell_type": "markdown",
   "metadata": {},
   "source": [
    "### Prog_52_pag_46"
   ]
  },
  {
   "cell_type": "code",
   "execution_count": null,
   "metadata": {},
   "outputs": [],
   "source": [
    "#ENTRAR COM O LADO DE UM QUADRADO E IMPRIMIR:\n",
    "\n",
    "#PERIMETRO\n",
    "#AREA\n",
    "#DIAGONAL\n",
    "\n",
    "import math\n",
    "\n",
    "lquad = float(input(\"Digite o lado de um quadrado: \"))\n",
    "per = float\n",
    "area = float\n",
    "dgl = float\n",
    "per = 4 * lquad\n",
    "area = lquad**2\n",
    "dgl = lquad*math.sqrt(2)\n",
    "print(\"O valor do perimetro é = \",per)\n",
    "print(\"O valor da area é = \",area)\n",
    "print(\"O valor da doagonal é = \",dgl)"
   ]
  },
  {
   "cell_type": "markdown",
   "metadata": {},
   "source": [
    "### Prog_53_pag_46"
   ]
  },
  {
   "cell_type": "code",
   "execution_count": null,
   "metadata": {},
   "outputs": [],
   "source": [
    "#ENTRAR COM OS LADOS A, B, C DE UM PARALELEPIPEDO. CALCULAR E IMPRIMIR A DIAGONAL\n",
    "\n",
    "import math\n",
    "\n",
    "a = float(input(\"Digite o lado A: \"))\n",
    "b = float(input(\"Digite o lado B: \"))\n",
    "c = float(input(\"Diogite o lado C: \"))\n",
    "print(\"O valor de A, B e C é a Diagonal =\",round(math.sqrt(a**2 + b**2 + c**2),ndigits=2))"
   ]
  },
  {
   "cell_type": "markdown",
   "metadata": {},
   "source": [
    "### Prog_54_pag_47"
   ]
  },
  {
   "cell_type": "code",
   "execution_count": null,
   "metadata": {},
   "outputs": [],
   "source": [
    "#CRIAR UM ALGORITMO QUE CALCULE E IMPRIMA A ÁREA DE UM TRIANGULO.\n",
    "\n",
    "\n",
    "print(\"--------------------FORMA 1-------------------------------------------\")\n",
    "\n",
    "#O EXERCICO PODE SER FEITO DE DUAS FORMAS !!!\n",
    "\n",
    "a = float(input(\"Digite o valor da area A: \"))\n",
    "b = float(input(\"Digite o valor da area B: \"))\n",
    "trian = (a*b)/2\n",
    "print(\"A área de um triangulo é = \",trian)\n",
    "\n",
    "print(\"--------------------FORMA 2-------------------------------------------\")\n",
    "\n",
    "a = float(input(\"Digite o valor da area A: \"))\n",
    "b = float(input(\"Digite o valor da area B: \"))\n",
    "print(\"A área de um triangulo é = \",(a*b)/2)\n",
    "\n",
    "print(\"---------------------------------------------------------------\")\n"
   ]
  },
  {
   "cell_type": "markdown",
   "metadata": {},
   "source": [
    "### Prog_55_pag_47"
   ]
  },
  {
   "cell_type": "code",
   "execution_count": null,
   "metadata": {},
   "outputs": [],
   "source": [
    "#CRIAR UM ALGORITMO QUE CALCULE E IMPRIMA UM LOSANGO:\n",
    "\n",
    "import math\n",
    "\n",
    "dga = float(input(\"Digite o valor da Diagonal A: \"))\n",
    "dgb = float(input(\"Digite o valor da Diagonal B: \"))\n",
    "print(\"O valor das unidades é = \",int((dga*dgb)/2))"
   ]
  },
  {
   "cell_type": "markdown",
   "metadata": {},
   "source": [
    "### Prog_56_pag_47"
   ]
  },
  {
   "cell_type": "code",
   "execution_count": null,
   "metadata": {},
   "outputs": [],
   "source": [
    "#ENTRE COM NOME E IDADE. IMPRIMIR A SIGUINTE SAIDA\n",
    "\n",
    "#NOME:\n",
    "#IDADE:\n",
    "\n",
    "nome = str(input(\"Digite um nome: \"))\n",
    "idade = int(input(\"Digite sua idade: \"))\n",
    "print(\"Seu nome é:\",nome)\n",
    "print(\"Sua idade é:\",idade,\"anos\")"
   ]
  },
  {
   "cell_type": "markdown",
   "metadata": {},
   "source": [
    "### Prog_56_pag_47"
   ]
  },
  {
   "cell_type": "code",
   "execution_count": null,
   "metadata": {},
   "outputs": [],
   "source": [
    "#ENTRE COM NOME E IDADE. IMPRIMIR A SIGUINTE SAIDA\n",
    "\n",
    "#NOME:\n",
    "#IDADE:\n",
    "\n",
    "nome = str(input(\"Digite um nome: \"))\n",
    "idade = int(input(\"Digite sua idade: \"))\n",
    "print(\"Seu nome é:\",nome)\n",
    "print(\"Sua idade é:\",idade,\"anos\")"
   ]
  },
  {
   "cell_type": "markdown",
   "metadata": {},
   "source": [
    "### Prog_57_pag_48"
   ]
  },
  {
   "cell_type": "code",
   "execution_count": null,
   "metadata": {},
   "outputs": [],
   "source": [
    "#ENTRAR COM AS NOTAS DA PR1 PRI2 E IMPRIMIA MEDIA FINAL.\n",
    "\n",
    "#TRUNCADA:\n",
    "#ARREDONDAD:\n",
    "\n",
    "pri1 = float(input(\"Digite a primeira nota: \"))\n",
    "pri2 = float(input(\"Digite a segunda nota: \"))\n",
    "media = float\n",
    "print(\"A média final 'TRUCADA' é =\",int((pri1 + pri2)/2))\n",
    "print(\"A média final 'ARREDONDADA' é =\",(round(pri1 + pri2)/2))"
   ]
  },
  {
   "cell_type": "markdown",
   "metadata": {},
   "source": [
    "### Prog_58_pag_48"
   ]
  },
  {
   "cell_type": "code",
   "execution_count": null,
   "metadata": {},
   "outputs": [],
   "source": [
    "# ENTRAR COM VALORES PARA XNUM1, XNUM2 E XNUM3 E IMPRIMI O VALOR DE X,SABENDO-SE QUE\n",
    "\n",
    "# X = XNUM1 + XNUM2 / XNUM3 + XNUM1 + 2(XNUM1 - XNUM2) + LOG(64) / LOG(2)\n",
    "\n",
    "\n",
    "\n",
    "import math\n",
    "\n",
    "xnum1 = float(input(\"Digite o primeiro número: \"))\n",
    "xnum2 = float(input(\"Digite o segundo número: \"))\n",
    "xnum3 = float(input(\"Digite o terceiro número: \"))\n",
    "x = float\n",
    "x = xnum1 + xnum2 / (xnum3 + xnum1) + 2*(xnum1 - xnum2) + math.e**64 / math.e**2\n",
    "print(\"O valor de X é = \",round(x))"
   ]
  },
  {
   "cell_type": "markdown",
   "metadata": {},
   "source": [
    "### Prog_59_pag_49"
   ]
  },
  {
   "cell_type": "code",
   "execution_count": null,
   "metadata": {},
   "outputs": [],
   "source": [
    "#ENTRAR COM VALORES CATETOS DE UM TRIÂNGULO RETANGULO E IMPRIMIR A HIPOTENUSA.\n",
    "\n",
    "import math\n",
    "\n",
    "b = float(input(\"Digite o cateto 1: \"))\n",
    "c = float(input(\"Digite o cateto 2: \"))\n",
    "a = float\n",
    "a = math.sqrt(math.e**2 + math.e**2)\n",
    "print(\"O valor da hipotenusa é =\",round(a,ndigits=2))"
   ]
  },
  {
   "cell_type": "markdown",
   "metadata": {},
   "source": [
    "### Prog_60_pag49"
   ]
  },
  {
   "cell_type": "code",
   "execution_count": null,
   "metadata": {},
   "outputs": [],
   "source": [
    "#ENTRAR COM A RAZÃO DE UM PA EO VALOR DO 1ªTERMO. CALCULE E IMPRIMA 0 10ª TERMO DA SERIE.\n",
    "\n",
    "\n",
    "termo = int(input(\"Digite o valor do 1ªtermo: \"))\n",
    "razao = int(input(\"Digite a razão: \"))\n",
    "dec = int\n",
    "dec = termo + 9*razao\n",
    "print(\"O valor do 10ª termo desta P.A é =\",dec)\n"
   ]
  },
  {
   "cell_type": "markdown",
   "metadata": {},
   "source": [
    "### Prog_61_pag_50"
   ]
  },
  {
   "cell_type": "code",
   "execution_count": null,
   "metadata": {},
   "outputs": [],
   "source": [
    "#ENTRAR COM A RAZÃO DE UM pg E O VALOR DO 1ª TERMO. CALCULE E IMPRIMA O 5ªTERMO DA SERIE\n",
    "\n",
    "termo = int(input(\"Digite o termo: \"))\n",
    "razao = int(input(\"Digite a razçao: \"))\n",
    "quinto = int\n",
    "quinto = termo * razao^4\n",
    "if quinto > 5:\n",
    "    print(\"O 5ª termo é = \", quinto)\n",
    "else:\n",
    "    print(\"O quinto termo não é maior que 5\")"
   ]
  },
  {
   "cell_type": "markdown",
   "metadata": {},
   "source": [
    "### Prog_62_pag_50"
   ]
  },
  {
   "cell_type": "code",
   "execution_count": null,
   "metadata": {},
   "outputs": [],
   "source": [
    "#EM EPOCAS DE POUCO DINHEIRO, OS COMERCIANTES ESTÃO PROCURANDO AUMENTAR SUAS VENDAS\n",
    "#OFERECENDO DESCONTOS. FAÇA UM ALGORITMO QUE POSSA ENTRAR COM O VALOR DE UM PRODUTO\n",
    "#E IMPRIMA O NOVO VALOR TENDO EM VISTA QUE O DESCONTO FOI 9%\n",
    "\n",
    "vprod = float(input(\"Digite o valor do produto: \"))\n",
    "des = int(input(\"Digite o valor de desconto: \"))\n",
    "nprod = float\n",
    "if des != 9:\n",
    "    print(\"============================================================================\")\n",
    "    print(\"Produto não liberdo para venda desconto acima de 9%\")\n",
    "    print(\"============================================================================\")\n",
    "else:\n",
    "    nprod = vprod * des / 100\n",
    "    print(\"============================================================================\")\n",
    "    print(\"Produto liberado para venda\")\n",
    "    print(\"\\nValor do produto com desconto\",nprod)\n",
    "    print(\"============================================================================\")"
   ]
  },
  {
   "cell_type": "markdown",
   "metadata": {},
   "source": [
    "### Prog_63_pag_50"
   ]
  },
  {
   "cell_type": "code",
   "execution_count": null,
   "metadata": {},
   "outputs": [],
   "source": [
    "#CRIAR UM ALGORITMO QUE EFETUE O CALCULO DO SALARIO LIQUIDO DE UM PROFESSOR. OS DADOS FORNECIDOS SERÃO\n",
    "\n",
    "#VALOR DA HORA AULA\n",
    "#NÚMERO DE AULAS DADAS NO MÊS\n",
    "#E PERCENTUAL DE DESCONTO DO INSS\n",
    "\n",
    "nadm = int(input(\"Digite números de aulas dadas no mês: \"))\n",
    "vha = float(input(\"Digite valor da hora aula: \"))\n",
    "pdesc = float(input(\"Digite o percentual de desconto: \"))\n",
    "saldodesc = float\n",
    "totaldesc = float\n",
    "saliq = float\n",
    "saldodesc = nadm * vha\n",
    "totaldesc = (pdesc / 100)* saldodesc\n",
    "saliq = saldodesc - totaldesc\n",
    "if saliq < 100:\n",
    "    print(\"Você precisa aumentar sua meta R$\",int(round(saliq,ndigits=2)))\n",
    "else:\n",
    "    print(\"Calculo do Salario liquido é = R$\",int(round(saliq,ndigits=2)))"
   ]
  },
  {
   "cell_type": "markdown",
   "metadata": {},
   "source": [
    "### Prog_64_pag_51"
   ]
  },
  {
   "cell_type": "code",
   "execution_count": null,
   "metadata": {},
   "outputs": [],
   "source": [
    "#LER UMA TEMPERATURA EM GRAUS CENTIGRADOS E APRESENTA-LA CONVERTIDA EM GRAUS FAHRENHET.\n",
    "#A FORMULA DE CONVERÇÃO É F = 9*C+160/5 ONDE F É A TEMPERATURA EM FAHRENHEIT E C É A TEMPERATURA CENTIGRADOS.\n",
    "\n",
    "gc = float(input(\"Digite uma temperatura em graus centigrados: \"))\n",
    "ft = float\n",
    "ft = (9*gc + 160)/5\n",
    "print(\"A temperatura em fahrenheit é = \",ft)\n"
   ]
  },
  {
   "cell_type": "markdown",
   "metadata": {},
   "source": [
    "### Prog_65_pag_51"
   ]
  },
  {
   "cell_type": "code",
   "execution_count": null,
   "metadata": {},
   "outputs": [],
   "source": [
    "#CALCULAR E APRESENTAR O VALOR DE UMA LATA DE OLEO, UTILIZANDO A FORMULA:\n",
    "#VOLUME  = 3.114159 *R**2 * ALTURA.\n",
    "\n",
    "import math\n",
    "\n",
    "# VOLUME\n",
    "# RAIO\n",
    "# ALTURA\n",
    "\n",
    "alt = float(input(\"Digite a altura da lata: \"))\n",
    "r = float(input(\"Digite o rio da lata: \"))\n",
    "vol = float\n",
    "vol = math.pi * r**2 * alt\n",
    "print(\"O Volume é = \",vol)\n",
    "if vol < 20:\n",
    "    print(\"Volume não está correto, deve ser maior que 20: \",vol)\n",
    "else:\n",
    "    print(\"ok!! você informou o volume correto: \",vol)"
   ]
  },
  {
   "cell_type": "markdown",
   "metadata": {},
   "source": [
    "### Prog_66_pag_51"
   ]
  },
  {
   "cell_type": "code",
   "execution_count": null,
   "metadata": {},
   "outputs": [],
   "source": [
    "#EFETUAR O CALCULO DA QUANTIDADE DE LITROS DE COMBUSTIVEL GASTOS EM UMA VIAGEM, SABENDO -SE  QUE\n",
    "# O CARRO FAZ 12 KM COM UM LITRO. DEVERÁ SER FORNECIDO O TEMPO GASTO NA VIAGEM E A VELOCIDADE MÉDIA.\n",
    "\n",
    "# UTILIZAR AS SEGUINTES FORMULAS\n",
    "\n",
    "# distancia = tempo x velocidade\n",
    "# litros = distancia /12\n",
    "\n",
    "#O ALGORITMO DEVERÁ APRESENTAR OS VALORES DA VELOCIDADE MÉDIA, TEMPO GASTO NA VIAGEM, DISTANCIA PERCORRIDA\n",
    "# E A QUANTIDADE DE LITROS UTILIZADOS NA VIAGEM.\n",
    "\n",
    "# VALORES DA VELOCIDADE MÉDIA\n",
    "# TEMPO GASTO NA VIAGEM\n",
    "# DISTANCIA PERCORRIDA\n",
    "# QUANTIDADE DE LITROS UTILIZADOS NA VIAGEM\n",
    "\n",
    "temp = float(input(\"Digite o tempo gasto na viagem: \"))\n",
    "volm = float(input(\"Digite a velocidade média: \"))\n",
    "dis = float\n",
    "lit = float\n",
    "dis = temp * volm\n",
    "lit = dis / 12\n",
    "print(\"Valores da velocidade média é = \",volm)\n",
    "print(\"Tempo gasto na viagem é = \",temp)\n",
    "print(\"Distancia percorrida é =\",dis)\n",
    "print(\"Quantidades de litros utilizados na viagem é =\",lit)\n",
    "print(\"\\nVelocidade média\",volm,\"\\nTempo gasto\",temp,\"\\nDistancia Percorrida\",dis,\"\\nQuantidade de litros\",lit)"
   ]
  },
  {
   "cell_type": "markdown",
   "metadata": {},
   "source": [
    "### Prog_67_pag_52"
   ]
  },
  {
   "cell_type": "code",
   "execution_count": null,
   "metadata": {},
   "outputs": [],
   "source": [
    "# EFTUE O CALCULO DO VALOR DE UMA PRESTAÇÃO EM ATRASO, UTILIZANDO A FORMULA:\n",
    "# PRESTAÇÃO = VALOR + (VALOR*(TAXA/100)*TEMPO)\n",
    "\n",
    "#PRES\n",
    "#VALOR\n",
    "#TAXA\n",
    "#TEMPO\n",
    "\n",
    "valpres = float(input(\"Digite o valor da prestação: \"))\n",
    "taxa = float(input(\"Digite a taxa: \"))\n",
    "tempo = float(input(\"Digite o tempo da Prestação: \"))\n",
    "pres = valpres + (valpres*(taxa/100)*tempo)\n",
    "print(\"O valor da prestação em atraso é = \",pres)"
   ]
  },
  {
   "cell_type": "markdown",
   "metadata": {},
   "source": [
    "### Prog_68_pag_52"
   ]
  },
  {
   "cell_type": "code",
   "execution_count": null,
   "metadata": {},
   "outputs": [],
   "source": [
    "# LER DOIS VALORES PARA AS VARIAVEIS A e B, EFETUAR A TROCA DOS VALORES DE FORMA QUE A VARIAVEL A PASSE A TER O VALOR\n",
    "# DA VARIAVEL B E QUE A VARIAVEL B PASSE A TER O VALOR DA VARIAVEL A. aPRESENTE OS VALORES TROCADOS.\n",
    "\n",
    "\n",
    "a = int(input(\"Digite o primeiro valor: \"))\n",
    "b = int(input(\"Digite o segundo valor: \"))\n",
    "aux = a\n",
    "a = b\n",
    "b = aux\n",
    "print(\"Variavel\",a,\" passou a receber B: \",b)\n",
    "print(\"Variavel\",b,\" passou a receber A: \",a)"
   ]
  },
  {
   "cell_type": "markdown",
   "metadata": {},
   "source": [
    "### Prog_69_pag_53"
   ]
  },
  {
   "cell_type": "code",
   "execution_count": null,
   "metadata": {},
   "outputs": [],
   "source": [
    "# CRIAR UM ALGORITMO QUE LEIA O NUMERADOR E O DENOMINADOR DE UMA FRAÇÃO E TRANSFORMA - LO EM UM NUMERO DECIMAL\n",
    "\n",
    "num = int(input(\"Digite o Numerador: \"))\n",
    "dnum = int(input(\"Digite o Denominador: \"))\n",
    "result = int\n",
    "result = num / dnum\n",
    "print(\"Transformado em Numero Decimal: \",result)"
   ]
  },
  {
   "cell_type": "markdown",
   "metadata": {},
   "source": [
    "### Prog_70_pag_53"
   ]
  },
  {
   "cell_type": "code",
   "execution_count": null,
   "metadata": {},
   "outputs": [],
   "source": [
    "# TODOS RESTAURANTE, EMBORA POR LEI NÃO POSSA OBRIGAR O CLIENTE A PAGAR, COBRAR 10% PARA O GARÇON\n",
    "# FAZER UM ALGORITMO QUE LEIA O VALOR GASTO COM DESPESAS REALIZADAS EM UM RESTAURANTE E IMPRIMA O VALOR TOTAL\n",
    "# COM A GORJETS.\n",
    "\n",
    "\n",
    "vgasto = float(input(\"Digite o valor gasto no restaurante R$:\"))\n",
    "clie = float(input(\"O cliente permitiu a cobrança dos 10%: \"))\n",
    "gjtas = 1.1\n",
    "vtotal = float\n",
    "if clie == 1:\n",
    "    vtotal = vgasto * gjtas\n",
    "    print(\"-------------------------------------------------------------------------------------------------------------\")\n",
    "    print(\"\\nValor gasto no restaurante contemplando os 10% aos serviços prestados pelo garçon que é de R$:\",round(vtotal,ndigits=2))\n",
    "    print(\"\\nObrigado e volte sempre!!!\")\n",
    "    print(\"-------------------------------------------------------------------------------------------------------------\")\n",
    "else:\n",
    "    print(\"-------------------------------------------------------------------------------------------------------------\")\n",
    "    print(\"\\nValor gasto no restaurante foi R$\",round(vgasto,ndigits=2))\n",
    "    print(\"\\nObrigado e volte sempre!!!\")\n",
    "    print(\"-------------------------------------------------------------------------------------------------------------\")"
   ]
  },
  {
   "cell_type": "markdown",
   "metadata": {},
   "source": [
    "### Prog_71_pag_53"
   ]
  },
  {
   "cell_type": "code",
   "execution_count": null,
   "metadata": {},
   "outputs": [],
   "source": [
    "# CRIAR UM ALGORITMO QUE LEIA VALOR DE HORA E INFORME QUANTOS MINUTOS SE PASARAM DESDE DO INICIO DO DIA.\n",
    "\n",
    "vhora = int(input(\"Digite a hora: \"))\n",
    "minu = int(input(\"Digite minutos: \"))\n",
    "tminutos = vhora * 60 + minu\n",
    "print(\"Até agora ja se passaram\",tminutos,\"minutos\")"
   ]
  },
  {
   "cell_type": "markdown",
   "metadata": {},
   "source": [
    "### Prog_72_pag_54"
   ]
  },
  {
   "cell_type": "code",
   "execution_count": null,
   "metadata": {},
   "outputs": [],
   "source": [
    "# CRIAR UM ALGORITMO QUE LEIA O VALOR DE UM DEPOSITO E O VALOR DA TAXA DE JUROS. CALCULAR E IMPRIMIR\n",
    "# O VALOR TOTAL DEPOIS DO RENDIMENTO.\n",
    "\n",
    "depos = float(input(\"Valor deposito: \"))\n",
    "taxaj = float(input(\"Taxa de Juros: \"))\n",
    "valorrend = float\n",
    "vtotal = float\n",
    "valorrend = depos * taxaj / 100\n",
    "vtotal = depos + valorrend\n",
    "print(\"Valor do rendimento ao mês R$\",round(valorrend,ndigits=2))\n",
    "print(\"Valor total depois do rendimento: \",round(vtotal,ndigits=2))"
   ]
  },
  {
   "cell_type": "markdown",
   "metadata": {},
   "source": [
    "### Prog_73_pag_54"
   ]
  },
  {
   "cell_type": "code",
   "execution_count": null,
   "metadata": {},
   "outputs": [],
   "source": [
    "# CRIAR UM ALGORITMO QUE RECEBA UM NUMERO REAL, CALCULAR E IMPRIMIR\n",
    "\n",
    "# A PARTE INTEIRA DO NUMERO\n",
    "# A PARTE FRACIONAARIA DO NUMERO\n",
    "# O ARRENDONDADO\n",
    "\n",
    "num1 = float(input(\"Digite um numero \"))\n",
    "print(\"Parte inteira do numero digitado é = \",int(num1))\n",
    "\n",
    "frac = num1 / 100\n",
    "print(\"Parte fracionaria do numero é =\",frac)\n",
    "print(\"Parte fracionaria arredondada é =\",round(frac,ndigits=2))"
   ]
  },
  {
   "cell_type": "markdown",
   "metadata": {},
   "source": [
    "### Prog_74_pag_55"
   ]
  },
  {
   "cell_type": "code",
   "execution_count": null,
   "metadata": {},
   "outputs": [],
   "source": [
    "# PARA VARIOS TRIBUTOS, A BASE DE CALCULO É O SALARIO MINIMO. FAZER UM ALGORITMO QUE LEIA O VALOR DO SALARIO MINIMO\n",
    "# E O VALOR DO SALARIO  DE UMA PESSOA. CALCULAR E IMPRIMIR QUANTOS SLARIOS MINIMOS ELA GANHA.\n",
    "\n",
    "slam = float(input(\"Digite o valor do salário minimo: \"))\n",
    "psal = float(input(\"Salario da pessoa: \"))\n",
    "totalsal = float\n",
    "totalsal = psal / slam\n",
    "print(\"A pessoa ganha salarios\",round(totalsal))"
   ]
  },
  {
   "cell_type": "markdown",
   "metadata": {},
   "source": [
    "### Prog_75_pag_55"
   ]
  },
  {
   "cell_type": "code",
   "execution_count": null,
   "metadata": {},
   "outputs": [],
   "source": [
    "# CRIAR UM ALGORITMO QUE LEIA O PESO DE UMA PESSOA, SO A PARTE INTEIRA, CALCULAR E IMPRIMIR\n",
    "\n",
    "# O PESO DA PESSOA EM GRAMAS\n",
    "# NOVO PESO, EM GRAMAS, SE A PESSOA ENGORDA 12 %\n",
    "\n",
    "#----------------------------Variaveis ----------------------------------\n",
    "pesantedep = float\n",
    "engo = float\n",
    "novpeso = float\n",
    "gramakilo = float\n",
    "pereng = float\n",
    "#------------------------------------------------------------------------\n",
    "\n",
    "pesopess = float(input(\"Peso atual: \"))\n",
    "pesopessant = float(input(\"Peso anterior: \"))\n",
    "\n",
    "novpeso = pesopess * 1000\n",
    "pesantedep = pesopess - pesopessant\n",
    "engo = pesantedep * 1000\n",
    "gramakilo = engo / 1000\n",
    "pereng = gramakilo * gramakilo / 100\n",
    "\n",
    "print(\"Peso da pessoa em gramas:\",int(novpeso))\n",
    "if pesantedep < 0:\n",
    "    print(\"Diferença do peso antes e depois\",int(pesantedep),\"Kl's\")\n",
    "else:\n",
    "    print(\"Diferença do peso antes e depois +\", int(pesantedep),\"Kl's\")\n",
    "\n",
    "if engo < 0:\n",
    "    print(\"A pessoa emagresseu\",int(engo),\"gramas\")\n",
    "else:\n",
    "    print(\"A pessoa engodou\", int(engo), \"gramas\")\n",
    "\n",
    "print(\"Converção de grama para kilo:\",int(gramakilo))\n",
    "\n",
    "if pesantedep < 0:\n",
    "    print(\"Percentual de peso é menor, 'menos\",int(pereng),\"% de gordura\")\n",
    "else:\n",
    "    print(\"Percentual de peso é maior 'mais\", int(pereng),\"% de gordura'\")"
   ]
  },
  {
   "cell_type": "markdown",
   "metadata": {},
   "source": [
    "### Prog_76_pag_56"
   ]
  },
  {
   "cell_type": "code",
   "execution_count": null,
   "metadata": {},
   "outputs": [],
   "source": [
    "# CRIAR UM ALGORITMO QUE LEIA UM NUMERO ENTRE 0 e 60 E IMPRIMIR SEU SUCESSOR, SABENDO QUE SEU SUCESSOR\n",
    "# DE 60 É 0. NÃO PODE SER UTILIZADO NEMHUM COMANDO DE SELEÇÃOE NEM REPTIÇÃO.\n",
    "\n",
    "num = float(input(\"Digite um numero: \"))\n",
    "result = num + 1 % 61\n",
    "if result >= 61:\n",
    "    result = 0\n",
    "print(\"Numero digitado foi\",int(num),\",seu sucessor e:\",int(result))"
   ]
  },
  {
   "cell_type": "markdown",
   "metadata": {},
   "source": [
    "### Prog_77_pag_56"
   ]
  },
  {
   "cell_type": "code",
   "execution_count": null,
   "metadata": {},
   "outputs": [],
   "source": [
    "# LER DOIS NUMEROS REIS E IMPRIMIR O QUADRADO DA DIFERENÇA DO PRIMEIRO VALO PELO SEGUNDO E A DIFERENÇA DOS QUADRADOS.\n",
    "\n",
    "num1 = float(input(\"Digite o primeiro numero: \"))\n",
    "num2 = float(input(\"Digite o segundo numero: \"))\n",
    "d = float\n",
    "q = float\n",
    "d = (num1 - num2)**2\n",
    "q = num1**2 - num2**2\n",
    "print(\"Diferença = \",int(d))\n",
    "print(\"Diferença do quadrado = \",int(q))"
   ]
  },
  {
   "cell_type": "markdown",
   "metadata": {},
   "source": [
    "### Prog_78_pag_56"
   ]
  },
  {
   "cell_type": "code",
   "execution_count": null,
   "metadata": {},
   "outputs": [],
   "source": [
    "# DADO UM POLIGONO CONVEXO DE N LADOS, PODEMOS CALCULAR O NUMERO DE DIAGONAIS DIFERENTES (ND) DESSE POLIGONO\n",
    "# PELA FORMULA: ND = N(N-3)/2. FAZER UM ALGORITMO QUE LEIA QUANTOS LADOS TEM O POLIGONO, CALCULE E ESCREVA O NUMERO\n",
    "# DE DIAGONAIS DIFERENTES (ND) DO MESMO.\n",
    "\n",
    "n = int(input(\"O numero de poligonos: \"))\n",
    "nd = float\n",
    "nd = n*(n - 3)/2\n",
    "print(\"poligono é = \",nd)"
   ]
  },
  {
   "cell_type": "markdown",
   "metadata": {},
   "source": [
    "### Prog_78_pag_56"
   ]
  },
  {
   "cell_type": "code",
   "execution_count": null,
   "metadata": {},
   "outputs": [],
   "source": [
    "# DADO UM POLIGONO CONVEXO DE N LADOS, PODEMOS CALCULAR O NUMERO DE DIAGONAIS DIFERENTES (ND) DESSE POLIGONO\n",
    "# PELA FORMULA: ND = N(N-3)/2. FAZER UM ALGORITMO QUE LEIA QUANTOS LADOS TEM O POLIGONO, CALCULE E ESCREVA O NUMERO\n",
    "# DE DIAGONAIS DIFERENTES (ND) DO MESMO.\n",
    "\n",
    "n = int(input(\"O numero de poligonos: \"))\n",
    "nd = float\n",
    "nd = n*(n - 3)/2\n",
    "print(\"poligono é = \",nd)"
   ]
  },
  {
   "cell_type": "markdown",
   "metadata": {},
   "source": [
    "### Prog_79_pag_57"
   ]
  },
  {
   "cell_type": "code",
   "execution_count": null,
   "metadata": {},
   "outputs": [],
   "source": [
    "# UMA PESSOA RESOLVEU FAZER UMA APLICAÇÃO EM UMA POUPANÇA PROGRAMDA. PARA CALCULAR SEU RENDIMENTO, ELA DEVERÁ FORNECER\n",
    "# O VALOR CONSTANTE DA APLICAÇÃO MENSAL , A TAXA E O NUMERO DE MESES. SABENDO-SE QUE A FORMULA USADA PARA ESTE CALCULO É:\n",
    "\n",
    "# VALOR ACUMULADO: P*(1+i)**N -1 / i\n",
    "\n",
    "# TAXA = i\n",
    "# APLICAÇÃO = P\n",
    "# NUMERO DE MESES = N\n",
    "\n",
    "va = float\n",
    "p = float(input(\"Digite o valor da aplicação: \"))\n",
    "i = float(input(\"Digite a taxa \"))\n",
    "n = int(input(\"Numero de meses \"))\n",
    "\n",
    "va = p*(((1+i)**n)-1)/i\n",
    "\n",
    "print(\"Valor acumulado:\",va)"
   ]
  }
 ],
 "metadata": {
  "kernelspec": {
   "display_name": "Python 3",
   "language": "python",
   "name": "python3"
  },
  "language_info": {
   "codemirror_mode": {
    "name": "ipython",
    "version": 3
   },
   "file_extension": ".py",
   "mimetype": "text/x-python",
   "name": "python",
   "nbconvert_exporter": "python",
   "pygments_lexer": "ipython3",
   "version": "3.7.3"
  }
 },
 "nbformat": 4,
 "nbformat_minor": 2
}
