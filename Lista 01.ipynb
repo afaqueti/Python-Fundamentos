{
 "cells": [
  {
   "cell_type": "markdown",
   "metadata": {},
   "source": [
    "### Python Fundamentos"
   ]
  },
  {
   "cell_type": "markdown",
   "metadata": {},
   "source": [
    "#### Lista de Exercicios"
   ]
  },
  {
   "cell_type": "markdown",
   "metadata": {},
   "source": [
    "### Prog_18_pag_29"
   ]
  },
  {
   "cell_type": "code",
   "execution_count": null,
   "metadata": {},
   "outputs": [],
   "source": [
    "x = int(input(\"Digite um número para Soma: \"))\n",
    "print(\"Valor de x =\",x+1)"
   ]
  },
  {
   "cell_type": "markdown",
   "metadata": {},
   "source": [
    "### Prog_19_pag_30"
   ]
  },
  {
   "cell_type": "code",
   "execution_count": null,
   "metadata": {},
   "outputs": [],
   "source": [
    "import math\n",
    "print(\"Funções Aritiméticas\")\n",
    "\n",
    "#-----VARIAVEIS------\n",
    "#--------------------\n",
    "\n",
    "#------Usuário Entra com um Valor--------------\n",
    "a=int(input(\"Digite um valor: \")) \n",
    "#----------------------------------------------\n",
    "\n",
    "print(\"\")\n",
    "print(\"---------------------------------------------------------------------------------\")\n",
    "print(\"Raiz quadrada:\",math.sqrt(a))\n",
    "print(\"---------------------------------------------------------------------------------\")\n",
    "print(\"\")\n",
    "print(\"---------------------------------------------------------------------------------\")\n",
    "print(\"Raiz com exp e log, retornando valor interio: \",int(math.exp(1/2*math.log(a))))\n",
    "print(\"---------------------------------------------------------------------------------\")\n",
    "print(\"\")\n",
    "print(\"---------------------------------------------------------------------------------\")\n",
    "print(\"e** Representa expoente: \",math.e**(1/2*math.log(a)))\n",
    "print(\"---------------------------------------------------------------------------------\")\n",
    "print(\"\")\n",
    "print(\"---------------------------------------------------------------------------------\")\n",
    "print(math.sin(45*math.pi/180)+00001.3)\n",
    "print(\"---------------------------------------------------------------------------------\")\n",
    "print(\"\")\n",
    "print(\"---------------------------------------------------------------------------------\")\n",
    "print(\"Potencia com exp e log formatado: \",float(round(math.exp(3*math.log(8)+0001.3))))\n",
    "print(\"---------------------------------------------------------------------------------\")\n",
    "print(\"\")\n",
    "print(\"---------------------------------------------------------------------------------\")\n",
    "print (\"Potencia com exp e log sem formatar: \",math.exp(3*math.log(8)))\n",
    "print(\"---------------------------------------------------------------------------------\")\n",
    "print(\"\")\n",
    "print(\"---------------------------------------------------------------------------------\")\n",
    "print(\"Protencia com operador ** e formatado: \",round(8**3,3))\n",
    "print(\"---------------------------------------------------------------------------------\")\n",
    "print(\"\")\n",
    "print(\"---------------------------------------------------------------------------------\")\n",
    "print(\"Raiz cubica: \",math.exp(1/3*math.log(a)))\n",
    "print(\"---------------------------------------------------------------------------------\")\n",
    "print(\"\")\n",
    "print(\"---------------------------------------------------------------------------------\")\n",
    "print(\"Converter para inteiro 5.5 para:|\",int(round(5.5)),\"|\")\n",
    "print(\"---------------------------------------------------------------------------------\")\n",
    "print(\"\")\n",
    "print(\"---------------------------------------------------------------------------------\")\n",
    "print(\"Converter para inteiro 5.5 para:|\",int(6.5),\"|\")\n",
    "print(\"---------------------------------------------------------------------------------\")\n",
    "print(\"\")\n",
    "print(\"---------------------------------------------------------------------------------\")\n",
    "print(\"Converter para inteiro 6.5 + 0.00001:  |\",round(6.5+0.0001),\"|\")\n",
    "print(\"---------------------------------------------------------------------------------\")\n",
    "print(\"\")\n",
    "print(\"---------------------------------------------------------------------------------\")\n",
    "print(\"Converter para inteiro 5.45: |\",int(5.45),\"|\")\n",
    "print(\"---------------------------------------------------------------------------------\")\n",
    "print(\"\")\n",
    "print(\"---------------------------------------------------------------------------------\")\n",
    "print(\"Converter para inteiro 5.51: |\",int(round(5.51)),\"|\")\n",
    "print(\"---------------------------------------------------------------------------------\")\n",
    "print(\"\")\n",
    "print(\"---------------------------------------------------------------------------------\")\n",
    "print(\"Converter para float(REAL) 87: |\",float(87),\"|\")\n",
    "print(\"---------------------------------------------------------------------------------\")\n",
    "print(\"\")\n",
    "print(\"---------------------------------------------------------------------------------\")\n",
    "print(\"Converter para inteiro 3/4: |\",int(float(round(3/4))),\"|\")\n",
    "print(\"---------------------------------------------------------------------------------\")"
   ]
  },
  {
   "cell_type": "markdown",
   "metadata": {},
   "source": [
    "### Prog_20_pag_31"
   ]
  },
  {
   "cell_type": "code",
   "execution_count": null,
   "metadata": {},
   "outputs": [],
   "source": [
    "print(\"Funções\")\n",
    "a = str(input(\"Digite a primeira palavra:\"))\n",
    "b = str(input(\"Digite a segunda palavra\"))\n",
    "c = str\n",
    "c1 = str\n",
    "print(\"--------------------------------------------------------------\")\n",
    "print(\"Retorna o número de caractere:\",len(a),len(b))\n",
    "print(\"--------------------------------------------------------------\")\n",
    "\n",
    "print(\"\")\n",
    "print(\"--------------------------------------------------------------\")\n",
    "print(a+b)\n",
    "print(\"--------------------------------------------------------------\")\n",
    "\n",
    "print(\"\")\n",
    "print(\"--------------------------------------------------------------\")\n",
    "c = b\n",
    "print(\"Variavel |c| irá receber 'a':\",c)\n",
    "print(\"--------------------------------------------------------------\")\n",
    "\n",
    "print(\"\")\n",
    "c1 = c+b\n",
    "print (\"Resultado: \",c1)\n",
    "print(\"--------------------------------------------------------------\")\n",
    "\n",
    "print(\"\")\n",
    "print(\"--------------------------------------------------------------\")\n",
    "print(\"Reultado da função |a[0]|, retorna a primeira letra digitada:\",a[0])\n",
    "print(\"--------------------------------------------------------------\")\n",
    "\n",
    "print(\"\")\n",
    "print(\"--------------------------------------------------------------\")\n",
    "print(\"Resultado da função |a[-1]| , retornaa ultima letra digitada:\",a[-1])\n",
    "print(\"--------------------------------------------------------------\")\n",
    "\n",
    "print(\"\")\n",
    "print(\"--------------------------------------------------------------\")\n",
    "print(\"Todas as letras menos a Primeira:\",a[1:len(a)])\n",
    "print(\"--------------------------------------------------------------\")\n",
    "\n",
    "print(\"\")\n",
    "print(\"--------------------------------------------------------------\")\n",
    "print(\"Somente o 3ª elemento:\",a[2:3])\n",
    "print(\"--------------------------------------------------------------\")\n",
    "\n",
    "print(\"\")\n",
    "print(\"--------------------------------------------------------------\")\n",
    "print(\"Soment os 3 primeiros elemento:\",a[0:3])\n",
    "print(\"--------------------------------------------------------------\")\n",
    "\n",
    "print(\"\")\n",
    "print(\"--------------------------------------------------------------\")\n",
    "print(\"Soment os 3 ultimos elemento:\",a[-3:],b[-3:])\n",
    "print(\"--------------------------------------------------------------\")"
   ]
  },
  {
   "cell_type": "markdown",
   "metadata": {},
   "source": [
    "### Prog_21_pag_32"
   ]
  },
  {
   "cell_type": "code",
   "execution_count": null,
   "metadata": {},
   "outputs": [],
   "source": [
    "print(\"Testando Herarquia\")\n",
    "print(\"======================================================================\")\n",
    "print(\"12 + 5 /2 é igual a: \",12+5/2)\n",
    "print(\"É diferente de (12 + 5) / 2. que é igual a:\",(12+5)/2, \"s; logo. /\")\n",
    "print(\"tem hierarquia maior do + ou -\")\n",
    "print(\"======================================================================\")\n",
    "print(\"\")\n",
    "print(\"======================================================================\")\n",
    "print(\"64**1/4 é igual a:\",64**1/4)\n",
    "print(\"É diferente de 64**(1/4): que é igual a:\",64**(1/4),\"; logo **\")\n",
    "print(\"tem herarquia maior do que * ou /\")\n",
    "print(\"======================================================================\")\n",
    "print(\"\")\n",
    "print(\"======================================================================\")\n",
    "print(\"3*7 % 5 é igual a:\",3*7%5)\n",
    "print(\"É diferente de (3*7)%5, que é igual a:\",(3*7)%5,\"; logo % tem hierarquia\")\n",
    "print(\"maior do que *\")\n",
    "print(\"\")\n",
    "print(\"======================================================================\")\n",
    "print(\"3 * 7 div 5 e igual a:\",3*7//5)\n",
    "print(\"É igual a (3*7) div 5:\",(3*7)//5,\"logo, div tem a mesma hierarquia de ou /\")\n",
    "print(\"======================================================================\")"
   ]
  },
  {
   "cell_type": "markdown",
   "metadata": {},
   "source": [
    "### Prog_22_pag_33"
   ]
  },
  {
   "cell_type": "code",
   "execution_count": null,
   "metadata": {},
   "outputs": [],
   "source": [
    "print(\"Testando Hierarquia\")\n",
    "print(\"====================================================================\")\n",
    "print(\"20 / 4 div 2 igual a: \",20/4//2)\n",
    "print(\"É igual a (20 / 4) div 2: \",(20/4//2), \"; logo tem a mesma hieraquia da /\")\n",
    "print(\"====================================================================\")\n",
    "print(\"\")\n",
    "print(\"====================================================================\")\n",
    "print(\"30 / 4 div 2 é igual: \",30/4//2)\n",
    "print(\"É igual a (30/4)div 2: \",(30/4)//2, \"; logo div tema a mesma hieraquia da /\")\n",
    "print(\"====================================================================\")\n",
    "print(\"\")\n",
    "print(\"====================================================================\")\n",
    "print(\"7. div 4: \",7.//4)\n",
    "print(\"7 div 4: \",7//4)\n",
    "print(\"6. div 4: \",6.//4)\n",
    "print(\"6 div 4: \",6//4)\n",
    "print(\"====================================================================\")"
   ]
  },
  {
   "cell_type": "markdown",
   "metadata": {},
   "source": [
    "### Prog_24_pag_35"
   ]
  },
  {
   "cell_type": "code",
   "execution_count": null,
   "metadata": {},
   "outputs": [],
   "source": [
    "a = int(input(\"Digite um numero com tres digitos: \"))\n",
    "b = (a//10)%10\n",
    "print(\"Resulta do algsritmos de tres casas: \",b)"
   ]
  },
  {
   "cell_type": "markdown",
   "metadata": {},
   "source": [
    "### Prog_25_pag_36"
   ]
  },
  {
   "cell_type": "code",
   "execution_count": null,
   "metadata": {},
   "outputs": [],
   "source": [
    "#Progrma para separar DIA, MÊS, ANO, em cada linha:\n",
    "\n",
    "print(\"===========================================================\")\n",
    "data = int (input(\"Digite uma data ddmmaa: \"))\n",
    "dia = data // 10000\n",
    "mes = (data % 10000) // 100\n",
    "ano = data % 100\n",
    "print(\"Dia: \", dia)\n",
    "print(\"Mês: \",mes)\n",
    "print(\"Ano: \",ano)\n",
    "print(\"===========================================================\")"
   ]
  },
  {
   "cell_type": "markdown",
   "metadata": {},
   "source": [
    "### Prog_26_pag_36"
   ]
  },
  {
   "cell_type": "code",
   "execution_count": null,
   "metadata": {},
   "outputs": [],
   "source": [
    "#Progrma para separar DIA, MÊS, ANO, em cada linha:\n",
    "\n",
    "print(\"===========================================================\")\n",
    "data = int (input(\"Digite uma data ddmmaa: \"))\n",
    "dia = data // 10000\n",
    "mes = (data % 10000) // 100\n",
    "ano = data % 100\n",
    "ndata = mes *10000 +dia *100+ano\n",
    "print(\"Dia: \", dia)\n",
    "print(\"Mês: \",mes)\n",
    "print(\"Ano: \",ano)\n",
    "print(\"Resultado no formato mmddaa: \",ndata)\n",
    "print(\"===========================================================\")   "
   ]
  },
  {
   "cell_type": "markdown",
   "metadata": {},
   "source": [
    "### Prog_27_pag_37"
   ]
  },
  {
   "cell_type": "code",
   "execution_count": null,
   "metadata": {},
   "outputs": [],
   "source": [
    "print(\"Operadores\")\n",
    "\n",
    "#-----------------Variaveis----------------\n",
    "x = int(input(\"Digite primeiro número: \"))\n",
    "y = int(input(\"Digite segundo número: \"))\n",
    "#------------------------------------------\n",
    "\n",
    "print(\"Novo valor do primeiro numero :\",x+1)\n",
    "print(\"Novo valor do segundo numero :\",y-1)"
   ]
  },
  {
   "cell_type": "markdown",
   "metadata": {},
   "source": [
    "### Prog_28_pag_38"
   ]
  },
  {
   "cell_type": "code",
   "execution_count": null,
   "metadata": {},
   "outputs": [],
   "source": [
    "#EXERCICIOS - LISTA 1\n",
    "\n",
    "#Imprima a mensagem: É PRECISO FAZER TODOS OS ALGORITMOS PARA APRENDER\n",
    "\n",
    "print(\"É PRECISO FAZER TODOS OS ALGORITMOS PARA APRENDER\")"
   ]
  },
  {
   "cell_type": "markdown",
   "metadata": {},
   "source": [
    "### Prog_29_pag_38"
   ]
  },
  {
   "cell_type": "code",
   "execution_count": null,
   "metadata": {},
   "outputs": [],
   "source": [
    "#IMPRIMA SEU NOME\n",
    "\n",
    "nome = str(input(\"Digete seu nome: \"))\n",
    "print(nome)"
   ]
  },
  {
   "cell_type": "markdown",
   "metadata": {},
   "source": [
    "### Prog_30_pag_38"
   ]
  },
  {
   "cell_type": "code",
   "execution_count": null,
   "metadata": {},
   "outputs": [],
   "source": [
    "#CRIAR UM ALGORITMO QUE IMPRIMA O PRODUTO ENTRE 28 e 43 (28*43)\n",
    "\n",
    "print(\"------ Forma 1 de fazer o exercico -----------------\")\n",
    "print(\"O produto entre os dois é:\",int(28*43))\n",
    "\n",
    "print(\"------ Forma 2 de fazer o exercico -----------------\")\n",
    "pro = int\n",
    "pro = 28*43\n",
    "print(\"O produto entre os doi é:\",pro)"
   ]
  },
  {
   "cell_type": "markdown",
   "metadata": {},
   "source": [
    "### Prog_31_pag_39"
   ]
  },
  {
   "cell_type": "code",
   "execution_count": null,
   "metadata": {},
   "outputs": [],
   "source": [
    "#CRIE UM ALGORITMO QUE IMPRIMA A MÉDIA ARITIMETICA ENTRE OS NUMEROS 8,9, E 7\n",
    "\n",
    "print(\"----------------------1ª forma------------------------------\")\n",
    "media  = int\n",
    "media = ((8+9+7)/3)\n",
    "print(\"A media é =\",media)\n",
    "print(\"------------------------------------------------------------\")\n",
    "print(\"\")\n",
    "print(\"----------------------2ª forma------------------------------\")\n",
    "print(\"A media é = \",float((8+9+7)/3))\n",
    "print(\"------------------------------------------------------------\")\n"
   ]
  },
  {
   "cell_type": "markdown",
   "metadata": {},
   "source": [
    "### Prog_32_pag_39"
   ]
  },
  {
   "cell_type": "code",
   "execution_count": null,
   "metadata": {},
   "outputs": [],
   "source": [
    "#LER UM NÚMERO INTEIRO E IMPRIMI-LO\n",
    "\n",
    "num = int(input(\"Digite um número:\"))\n",
    "print(\"Número digitado foi impresso que é:\",num)"
   ]
  },
  {
   "cell_type": "markdown",
   "metadata": {},
   "source": [
    "### Prog_33_pag_39"
   ]
  },
  {
   "cell_type": "code",
   "execution_count": null,
   "metadata": {},
   "outputs": [],
   "source": [
    "#LER DOIS NÚMEROS E IMPRIMI-LOS\n",
    "\n",
    "num1 = int(input(\"Digite o primeiro número:\"))\n",
    "num2 = int(input(\"Digite o segundo numero\"))\n",
    "print(\"Resultado do primeiro número:\",num1)\n",
    "print(\"REsultado do segundo número:\",num2)"
   ]
  }
 ],
 "metadata": {
  "kernelspec": {
   "display_name": "Python 3",
   "language": "python",
   "name": "python3"
  },
  "language_info": {
   "codemirror_mode": {
    "name": "ipython",
    "version": 3
   },
   "file_extension": ".py",
   "mimetype": "text/x-python",
   "name": "python",
   "nbconvert_exporter": "python",
   "pygments_lexer": "ipython3",
   "version": "3.7.3"
  }
 },
 "nbformat": 4,
 "nbformat_minor": 2
}
