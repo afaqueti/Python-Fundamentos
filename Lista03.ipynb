{
 "cells": [
  {
   "cell_type": "markdown",
   "metadata": {},
   "source": [
    "# Estrutura de Repetição"
   ]
  },
  {
   "cell_type": "markdown",
   "metadata": {},
   "source": [
    "## Python Fundamentos"
   ]
  },
  {
   "cell_type": "markdown",
   "metadata": {},
   "source": [
    "#### Lista de Exercicios"
   ]
  },
  {
   "cell_type": "markdown",
   "metadata": {},
   "source": [
    "### Prog_161_pag_126"
   ]
  },
  {
   "cell_type": "code",
   "execution_count": null,
   "metadata": {},
   "outputs": [],
   "source": [
    "'''\n",
    "Criar um algoritmo que entre com cinco números e imprimir o quadrado de cada núumero\n",
    "'''\n",
    "\n",
    "'''\n",
    "for cont in '12345':\n",
    "    num = float(input('Digite um numero: '))\n",
    "    print('Quadrado {:.1f}'.format(num**2))\n",
    "'''\n",
    "\n",
    "for cont in range(10):\n",
    "    num = float(input('Digite um número: '))\n",
    "    print('Quadrado {:.1f}'.format(num**2))\n",
    "else:\n",
    "    print('fim')"
   ]
  },
  {
   "cell_type": "markdown",
   "metadata": {},
   "source": [
    "### Prog_162_pag_127"
   ]
  },
  {
   "cell_type": "code",
   "execution_count": null,
   "metadata": {},
   "outputs": [],
   "source": [
    "'''\n",
    "Criar um algoritmo que imprima todos os números pares no intervalo de 1-10\n",
    "'''\n",
    "\n",
    "for cont in range(2, 10, 2):\n",
    "    print(cont, end=' ')\n",
    "    print('acabou')"
   ]
  },
  {
   "cell_type": "markdown",
   "metadata": {},
   "source": [
    "### Prog_163_pag_129"
   ]
  },
  {
   "cell_type": "code",
   "execution_count": null,
   "metadata": {},
   "outputs": [],
   "source": [
    "'''\n",
    "Corrida volta ao club\n",
    "'''\n",
    "\n",
    "for voltalago in range(1, 4):\n",
    "    print('=' * 80)\n",
    "    print('volta lago',voltalago, end='\\n')\n",
    "    print('')\n",
    "    for abdominais in range(1, 6):\n",
    "        print('Abdominais',abdominais, end=' ')\n",
    "        print('')"
   ]
  },
  {
   "cell_type": "markdown",
   "metadata": {},
   "source": [
    "### Prog_164_pag_129"
   ]
  },
  {
   "cell_type": "code",
   "execution_count": null,
   "metadata": {},
   "outputs": [],
   "source": [
    "'''\n",
    "Desafio\n",
    "Usar uma pausa usada na estrutura, após alguns segundos.\n",
    "'''\n",
    "\n",
    "print('\\nComecei')\n",
    "print('=' * 80)\n",
    "for cont in range (1, 60):\n",
    "    print(cont, end=' ')\n",
    "    print('')\n",
    "print('=' * 80)\n",
    "print('Fim')"
   ]
  },
  {
   "cell_type": "markdown",
   "metadata": {},
   "source": [
    "### Prog_165_pag_130"
   ]
  },
  {
   "cell_type": "code",
   "execution_count": null,
   "metadata": {},
   "outputs": [],
   "source": [
    "'''\n",
    "Triangular uma matriz de ordem 10 usando a estrutura do para\n",
    "'''\n",
    "\n",
    "a = int\n",
    "\n",
    "print('zona1')\n",
    "for a in range(0,8):\n",
    "        print(a, end=' ')\n",
    "        print('zona9')\n",
    "#print(' ')"
   ]
  },
  {
   "cell_type": "markdown",
   "metadata": {},
   "source": [
    "### Prog_166_pag_131"
   ]
  },
  {
   "cell_type": "code",
   "execution_count": null,
   "metadata": {},
   "outputs": [],
   "source": [
    "'''\n",
    "Imprimir todos os núemros do laço.\n",
    "'''\n",
    "\n",
    "\n",
    "print('')\n",
    "print('{:=^80}'.format(' TODOS '))\n",
    "for l in range(1,11):\n",
    "    for c in range(1 + l,11):\n",
    "        print(l,'-',c, end='| ')\n",
    "        for t in range(1, l):\n",
    "\n",
    "            print(t)"
   ]
  },
  {
   "cell_type": "markdown",
   "metadata": {},
   "source": [
    "### Prog_167_pag_131"
   ]
  },
  {
   "cell_type": "code",
   "execution_count": null,
   "metadata": {},
   "outputs": [],
   "source": [
    "c = int\n",
    "t = int\n",
    "lista = int\n",
    "lista1 = int\n",
    "\n",
    "print('=' * 80)\n",
    "print('Acima da Diagonal principal')\n",
    "\n",
    "for l in range (1,11):\n",
    "    #print(l)\n",
    "    c = l + 1\n",
    "    for c in range(1,11):\n",
    "        #print(l,c)\n",
    "        for t in range(1,c):\n",
    "            print(l,c)"
   ]
  },
  {
   "cell_type": "markdown",
   "metadata": {},
   "source": [
    "### Prog_174_pag_136"
   ]
  },
  {
   "cell_type": "code",
   "execution_count": null,
   "metadata": {},
   "outputs": [],
   "source": [
    "'''\n",
    "Imprimir todos os números de 1 até 100\n",
    "'''\n",
    "\n",
    "\n",
    "for i  in range(1,100):\n",
    "    print(i)"
   ]
  },
  {
   "cell_type": "markdown",
   "metadata": {},
   "source": [
    "### Prog_175_pag_136"
   ]
  },
  {
   "cell_type": "code",
   "execution_count": null,
   "metadata": {},
   "outputs": [],
   "source": [
    "'''\n",
    "Imprimir todos os números de 100 até 1\n",
    "'''\n",
    "\n",
    "#inportante informar que o laço irá funcionar somente se houver o passo -1.\n",
    "\n",
    "# Exemplo:\n",
    "#\n",
    "# para i de 100 ate 1 passo -1 faca\n",
    "\n",
    "for i in range(100,1,-1):\n",
    "    print(i)"
   ]
  },
  {
   "cell_type": "markdown",
   "metadata": {},
   "source": [
    "### Prog_176_pag_136"
   ]
  },
  {
   "cell_type": "code",
   "execution_count": null,
   "metadata": {},
   "outputs": [],
   "source": [
    "'''\n",
    "Imprimir os 100 primeiros pares\n",
    "'''\n",
    "\n",
    "for i in range(2,101,2):\n",
    "    print('Pares {}'.format(i))\n"
   ]
  },
  {
   "cell_type": "markdown",
   "metadata": {},
   "source": [
    "### Prog_177_pag_136"
   ]
  },
  {
   "cell_type": "code",
   "execution_count": null,
   "metadata": {},
   "outputs": [],
   "source": [
    "'''\n",
    "Imprimir os multiplos de 5, no intervalor de 1 até 50\n",
    "'''\n",
    "\n",
    "\n",
    "for i in range(0,50, +5):\n",
    "    print(i)"
   ]
  },
  {
   "cell_type": "markdown",
   "metadata": {},
   "source": [
    "### Prog_178_pag_137"
   ]
  },
  {
   "cell_type": "code",
   "execution_count": null,
   "metadata": {},
   "outputs": [],
   "source": [
    "'''\n",
    "Imprimir o quadrado dos números de 1 até 20\n",
    "'''\n",
    "\n",
    "for i in range(2,21):\n",
    "    print(i**2)"
   ]
  },
  {
   "cell_type": "markdown",
   "metadata": {},
   "source": [
    "### Prog_179_pag_137"
   ]
  },
  {
   "cell_type": "code",
   "execution_count": null,
   "metadata": {},
   "outputs": [],
   "source": [
    "'''\n",
    "Crie um algoritmo que imprima os números pares no intervalo de 1 a 600\n",
    "'''\n",
    "\n",
    "\n",
    "for i in range(2,601, 2):\n",
    "    print(i)"
   ]
  },
  {
   "cell_type": "markdown",
   "metadata": {},
   "source": [
    "### Prog_180_pag_137"
   ]
  },
  {
   "cell_type": "code",
   "execution_count": null,
   "metadata": {},
   "outputs": [],
   "source": [
    "'''\n",
    "Criar um algoritmo que imprima os núemros de 120 a 300\n",
    "'''\n",
    "\n",
    "for i in range(120,301):\n",
    "    print(i)"
   ]
  },
  {
   "cell_type": "markdown",
   "metadata": {},
   "source": [
    "### Prog_181_pag_137"
   ]
  },
  {
   "cell_type": "code",
   "execution_count": null,
   "metadata": {},
   "outputs": [],
   "source": [
    "'''\n",
    "Criar um algoritmo que imprima todos os núemros de 1 até 100 e soma deles.\n",
    "'''\n",
    "\n",
    "\n",
    "soma = int\n",
    "soma = 0\n",
    "for i in range(1,100):\n",
    "    soma = soma + i\n",
    "    print(soma)"
   ]
  },
  {
   "cell_type": "markdown",
   "metadata": {},
   "source": [
    "### Prog_182_pag_138"
   ]
  },
  {
   "cell_type": "code",
   "execution_count": null,
   "metadata": {},
   "outputs": [],
   "source": [
    "'''\n",
    "Entrar com 10 números e imprimir a metade de cada número\n",
    "'''\n",
    "\n",
    "\n",
    "for i in range(1,11):\n",
    "    print('Metadde de {} = {:^ 1}'.format(i,i / 2))"
   ]
  },
  {
   "cell_type": "markdown",
   "metadata": {},
   "source": [
    "## Prog_183_pag_138"
   ]
  },
  {
   "cell_type": "code",
   "execution_count": null,
   "metadata": {},
   "outputs": [],
   "source": [
    "'''\n",
    "Entrar com 10 números e imprimir o quadrado de cada número\n",
    "'''\n",
    "\n",
    "\n",
    "for i in range(1,11):\n",
    "    print('Quadrado de {} é {} ='.format(i,i ** 2))"
   ]
  },
  {
   "cell_type": "markdown",
   "metadata": {},
   "source": [
    "### Prog_184_pag_138"
   ]
  },
  {
   "cell_type": "code",
   "execution_count": null,
   "metadata": {},
   "outputs": [],
   "source": [
    "'''\n",
    "Entrar com 8 números e para cada número, imprimir o logaritmo desse número na base 10\n",
    "'''\n",
    "\n",
    "import math\n",
    "\n",
    "for i in range(1,9):\n",
    "    print('Log de {} é {:.4f}'.format(i,math.log(i)/math.log(10)))"
   ]
  },
  {
   "cell_type": "markdown",
   "metadata": {},
   "source": [
    "### Prog_185_pag_139"
   ]
  },
  {
   "cell_type": "code",
   "execution_count": null,
   "metadata": {},
   "outputs": [],
   "source": [
    "'''\n",
    "Entrar com 15 números e imprimir a raiz quadrada de cada número\n",
    "'''\n",
    "\n",
    "import math\n",
    "\n",
    "for i in range(1,16):\n",
    "    print('Raiz quadrada de {} é = {:.4f}'.format(i,math.sqrt(i)))"
   ]
  },
  {
   "cell_type": "markdown",
   "metadata": {},
   "source": [
    "### Prog_186_pag_139"
   ]
  },
  {
   "cell_type": "code",
   "execution_count": null,
   "metadata": {},
   "outputs": [],
   "source": [
    "'''\n",
    "Entrar com quatro núemros e imprimir o cubo e a raiz cubica de cada número\n",
    "'''\n",
    "\n",
    "\n",
    "import math\n",
    "\n",
    "n1 = int\n",
    "n2 = int\n",
    "n3 = int\n",
    "n4 = int\n",
    "for i in range(1,5):\n",
    "    num = float(input('\\nDigte um número: '))\n",
    "    if num > 0:\n",
    "        if i == 1:\n",
    "            n1 = num\n",
    "            #print(n1)\n",
    "            print('Raiz Cubica de {} é = {:.4f}'.format(num, num ** (1 / 3)))\n",
    "            print('='*80)\n",
    "        if i == 2:\n",
    "            n2 = num\n",
    "            #print(n2)\n",
    "            print('Raiz Cubica de {} é = {}'.format(num, num ** (1 / 3)))\n",
    "            print('='*80)\n",
    "        if i == 3:\n",
    "            n3 = num\n",
    "            #print(n3)\n",
    "            print('Raiz Cubica de {} é = {}'.format(num, num ** (1 / 3)))\n",
    "            print('='*80)\n",
    "        if i == 4:\n",
    "            n4 = num\n",
    "            #print(n4)\n",
    "            print('Raiz cubica de {} é = {}'.format(num, num ** (1 / 3)))\n",
    "            print('='*80)\n",
    "            print('Numeros Digitados: |{}| |{}| |{}| |{}|'.format(n1, n2, n3, n4))\n",
    "    else:\n",
    "        print('Naão faço raiz com numero negativo')"
   ]
  },
  {
   "cell_type": "markdown",
   "metadata": {},
   "source": [
    "### Prog_187_pag_139"
   ]
  },
  {
   "cell_type": "code",
   "execution_count": null,
   "metadata": {},
   "outputs": [],
   "source": [
    "'''\n",
    "Criar um algoritmo que calcule e imprima o valor de base n. O valor de n deverá ser maior do que 1 e inteiro e o valor\n",
    "de b maior ou igual a 2 e interio.\n",
    "'''\n",
    "\n",
    "pot = 1\n",
    "\n",
    "base = int(input('Digite a base interia e maior que 1: '))\n",
    "expo = int(input('Digite o expoente interio maior que 1: '))\n",
    "\n",
    "if base >= 2 and expo > 1:\n",
    "    pot = 1\n",
    "    for i in range(1,expo + 1):\n",
    "        print(i)\n",
    "        pot = pot * base\n",
    "    print('Potencia = {}'.format(pot))\n",
    "else:\n",
    "    print('Não Satisfazem')"
   ]
  },
  {
   "cell_type": "markdown",
   "metadata": {},
   "source": [
    "### Prog_188_pag_140"
   ]
  },
  {
   "cell_type": "code",
   "execution_count": null,
   "metadata": {},
   "outputs": [],
   "source": [
    "'''\n",
    "Criar um algoritmo que imprima uma tabela de conversão de polegadas para centimetros. Deseja-se\n",
    "que na tabela conste valores desde 1 polegadas até 20 polegadas inteiras\n",
    "'''\n",
    "print('='*80)\n",
    "print('Conversor de Polegada para Centimetro')\n",
    "print('')\n",
    "for i in range(1,20 + 1):\n",
    "    print('='*37)\n",
    "    print('{} - Polegadas para Centimetros {:.2f}'.format(i, i * 2.54))"
   ]
  },
  {
   "cell_type": "markdown",
   "metadata": {},
   "source": [
    "### Prog_189_pag_140"
   ]
  },
  {
   "cell_type": "code",
   "execution_count": null,
   "metadata": {},
   "outputs": [],
   "source": [
    "'''\n",
    "Criar um algoritmo que imprima a tebela de conversão de graus Celsius Fahrenheit para o intervalo desejado pelo\n",
    "usuário. O algoritmo deve solicitar ao usuário o limite superior, o limite inferior do intervalo\n",
    "e o decremento.\n",
    "formula de Coversão c = 5(f - 32) / 19\n",
    "Exemplo\n",
    "Valores lidos 68 --- 50 --- 14\n",
    "impressão  Fahrentheit     Celsius\n",
    "              68              20\n",
    "              50              10\n",
    "              14              -10\n",
    "'''\n",
    "\n",
    "print('='*80)\n",
    "f1 = int(input('Entre com a Temperatura maior em Fahrentheit: '))\n",
    "f2 = int(input('Entre com a Temperatura menor em Fahrentheit: '))\n",
    "dec = int(input('Entre com o Decremento: '))\n",
    "print('')\n",
    "print('='*80)\n",
    "for i in range(f1, f2, - 1):\n",
    "    i = i - dec\n",
    "    c = 5 * ((i - 32) / 9)\n",
    "    print('{}     Graus Fahrentheit\\n{:.4F} em graus Celsius'.format(i,c))\n",
    "    print('='*30)\n"
   ]
  },
  {
   "cell_type": "markdown",
   "metadata": {},
   "source": [
    "### Prog_190_pag_141"
   ]
  },
  {
   "cell_type": "code",
   "execution_count": null,
   "metadata": {},
   "outputs": [],
   "source": [
    "'''\n",
    "ENTRAR COM UM NOME, IDADE E SEXO DE 20 PESSOAS. IMPRIMIR O NOME SE A PESSOA FOR DO SEXO MASCULINO E TIVER\n",
    "MAIS DE 21 ANOS.\n",
    "'''\n",
    "\n",
    "for i in range(1,20 + 1):\n",
    "    print('='*80)\n",
    "    nome = str(input('Digite seu nome: '))\n",
    "    idade = int(input('Digete sua idade: '))\n",
    "    sexo = str(input('Digite sexo: '))\n",
    "    if sexo[0] == 'm' or sexo[0] == 'M' and idade > 21:\n",
    "        print('Seu nome é {} sua idade é {} anos'.format(nome,idade))\n",
    "    else:\n",
    "        print('Você não é do sexo Masculino e tem idade menor que 21 anos')"
   ]
  },
  {
   "cell_type": "markdown",
   "metadata": {},
   "source": [
    "### Prog_191_pag_141"
   ]
  },
  {
   "cell_type": "code",
   "execution_count": null,
   "metadata": {},
   "outputs": [],
   "source": [
    "'''\n",
    "CRIAR UM ALGORITMO QUE LEIA UM NÚMEROO QUE SERÁ O LIMITE SUPERIOR DE UM INTERVALO E O INCREMENTO (INCR).\n",
    "IMPRIMIR TODOS OS NUMEROS NATURAIS NO INTERVALO DE 0 ATÉ ESSE NÚMERO. SUPONHA QUE OS DOIS NÚMEROS  LIDOS SÃO\n",
    "MAIORES DO QUE ZERO.\n",
    "LIMITE SUPERIOR : 20\n",
    "INNCREMENTO : 5\n",
    "SAÍDA : 0 5 10 15 20\n",
    "'''\n",
    "\n",
    "limite = int(input('Digite o núemro limite e o incremento precisonando enter após digitar cada um:\\n'))\n",
    "incr = int(input())\n",
    "\n",
    "print('{:=^80}'.format(' Resultado '))\n",
    "for i in range(0,limite + 1):\n",
    "   if i % incr == 0:\n",
    "        print(i)\n",
    "print('=' * 80)"
   ]
  },
  {
   "cell_type": "markdown",
   "metadata": {},
   "source": [
    "### Prog_192_pag_141"
   ]
  },
  {
   "cell_type": "code",
   "execution_count": null,
   "metadata": {},
   "outputs": [],
   "source": [
    "'''\n",
    "CRIAR UM ALGORITMO QUE LEIA UM NÚMERO QUE SERÁ O LIMITE SUPERIOR DE UM INTERVALO E IMPRIMIR\n",
    "TODOS OS NÚMEROS IMPARES MENORES DO QUE ESSE NUMERO.\n",
    "EXEMPLO:\n",
    "LIMITE SUPERIOR: 15\n",
    "SAÍDA : 1 3 5 7 9 11 13\n",
    "'''\n",
    "\n",
    "ls = int(input('Digite um núemro: '))\n",
    "for i in range(0,ls,1):\n",
    "    if i % 2 != 0:\n",
    "        print(i)"
   ]
  },
  {
   "cell_type": "markdown",
   "metadata": {},
   "source": [
    "### Prog_193_pag_142"
   ]
  },
  {
   "cell_type": "code",
   "execution_count": null,
   "metadata": {},
   "outputs": [],
   "source": [
    "'''\n",
    "CRIAR UM ALGORITMO QUE LEIA UM NÚMERO QUE SERVIRÁ PARA CONTROLAR OS NÚEMROS PARES QUE SERÃO IMPRESSOS\n",
    "A PARTIR DE 2.\n",
    "QUANTOS 4\n",
    "SAÍDA 2 4 6 8\n",
    "'''\n",
    "\n",
    "num = int(input('Digite um numero: '))\n",
    "for i in range(1,num + 1):\n",
    "    res = i * 2\n",
    "    print('2 x {} = {}'.format(i,res))"
   ]
  },
  {
   "cell_type": "markdown",
   "metadata": {},
   "source": [
    "### Prog_194_pag_142"
   ]
  },
  {
   "cell_type": "code",
   "execution_count": null,
   "metadata": {},
   "outputs": [],
   "source": [
    "'''\n",
    "CRIAR UM ALGORITMO QUE LEIA UM NÚMERO E IMPRIMA TODOS OS NÚMEROS DE 1 ATÉ O NÚMERO LIDO E O SEU PRODUTO\n",
    "NÚMERO : 3\n",
    "SAÍDA : 1 2 3 6\n",
    "'''\n",
    "\n",
    "prod = int\n",
    "\n",
    "num = int(input('Digite um número: '))\n",
    "prod = 1\n",
    "for i in range(1,num + 1):\n",
    "    print('Resultado do produto é {} x {} = Produto {}'.format(prod,i,prod * i))\n",
    "    prod = prod * i\n"
   ]
  },
  {
   "cell_type": "markdown",
   "metadata": {},
   "source": [
    "### Prog_195_pag_143"
   ]
  },
  {
   "cell_type": "code",
   "execution_count": null,
   "metadata": {},
   "outputs": [],
   "source": [
    "'''\n",
    "CRIAR UM ALGORITMO QUE IMPRIMA A SOMA DOS NÚMEROS PARES ENTRE 25 E 200\n",
    "'''\n",
    "\n",
    "soma = int\n",
    "soma = 0\n",
    "print('\\n{:=^70}'.format(' NÚMEROS PARES ENTRE 25 E 200 '))\n",
    "for i in range(26,200,2):\n",
    "    print('Valor do contador i é {}'.format(i))\n",
    "    soma = soma + i\n",
    "print('\\n{:=^70}'.format(' SOMA DOS NÚEMROS PARES '))\n",
    "print('Soma dos pares é =',soma)\n",
    "print('='*70)"
   ]
  },
  {
   "cell_type": "markdown",
   "metadata": {},
   "source": [
    "### Prog_196_pag_143"
   ]
  },
  {
   "cell_type": "code",
   "execution_count": null,
   "metadata": {},
   "outputs": [],
   "source": [
    "'''\n",
    "CRIAR UM ALGORITMO QUE LEIA UM NÚMERO (NUM) E IMPRIMA A SOMA DOS NÚMEROS MULTIPLOS DE 5 NO INTERVALO ABERTO ENTRE 1 E NUM.\n",
    "SUPONHA QUE NUM SERÁ MAIOR QUE ZERO.\n",
    "'''\n",
    "\n",
    "'''\n",
    "ERRADO =====\n",
    "soma = 1\n",
    "num = int(input('Digite um número: '))\n",
    "for i in range(1,num + 1):\n",
    "    if i % 5 == 0:\n",
    "        soma = soma + i\n",
    "        print(i,soma)\n",
    "'''\n",
    "\n",
    "'''\n",
    "ERRADO ==== \n",
    "soma = 1\n",
    "num = int(input('Digite um número: '))\n",
    "if num == 0:\n",
    "    print('O núemro digitado deverá ser maior que zero')\n",
    "else:\n",
    "    for i in range(0,num,5):\n",
    "        print('Valor de i é {} soma {} = {}'.format(i,soma,soma + i))\n",
    "        soma = soma + i\n",
    "'''\n",
    "\n",
    "soma = int\n",
    "soma = 0\n",
    "num = int(input('Digite um número: '))\n",
    "print('{:=^70}'.format(' MULTIPLOS DE {} '.format(num)))\n",
    "for i in range(0,num,5):\n",
    "    print(i)\n",
    "    soma = soma + i\n",
    "print('{:=^70}'.format(' SOMA DOS MULTIPLOS DE {} '.format(num)))\n",
    "print('SOMA = ',soma)\n",
    "print('='*70)"
   ]
  },
  {
   "cell_type": "markdown",
   "metadata": {},
   "source": [
    "### Prog_197_pag_144"
   ]
  },
  {
   "cell_type": "code",
   "execution_count": null,
   "metadata": {},
   "outputs": [],
   "source": [
    "'''\n",
    "CRIAR UM ALGORITMO QUE LEIA UM NÚMERO QUE SERVIRÁ PARA CONTROLAR OS PRIMEIROS NÚMEROS IMPARES. DEVERÁ SER IMPRESSA A SOMA\n",
    "DESSES NÚEMROS. SUPONHA QUE NUM SERÁ MAIOR QUE ZERO.\n",
    "'''\n",
    "\n",
    "'''\n",
    "soma = 1\n",
    "num = int(input('Digite um número: '))\n",
    "for i in range(1,num + 1,2):\n",
    "    print('Valor do contador impar (i) {} + resultado da soma {} que é = |{}| esse valor {} retorna para linha abaixo para ser somado'.format(i,soma,soma + i,soma + i))\n",
    "    soma = soma + i\n",
    "'''\n",
    "\n",
    "impar = int\n",
    "num = int(input('Digite um número: '))\n",
    "print('{:=^60}'.format(' RESULTADO DE |{}| IMPARES '.format(num)))\n",
    "impar = 0\n",
    "for i in range(1,(num) * 2,2):\n",
    "    print(i)\n",
    "    impar = impar + i\n",
    "print('{:=^60}'.format(' SOMA DOS |{}| PRIMEIROS IMPARES '.format(num)))\n",
    "print(impar)"
   ]
  },
  {
   "cell_type": "markdown",
   "metadata": {},
   "source": [
    "### Prog_198_pag_144"
   ]
  },
  {
   "cell_type": "code",
   "execution_count": null,
   "metadata": {},
   "outputs": [],
   "source": [
    "'''\n",
    "CRIAR UM ALGORITMO QUE LEIA OS LIMITES INFERIOR E SUPERIOR DE UM INTERVALO E IMPRIMA TODOS OS NÚMEROS\n",
    "NATURAIS NO INTERVALO FECAHDO . SUPONHA QUE OS DADOS DIGITADOS SÃO PARA UM INTERVALO CRESCENTE. EXEMPLO\n",
    "LIMITE INFERIOR : 5\n",
    "LIMITE SUPERIOR : 12\n",
    "SAÍDA : 5 6 7 8 9 10 11 12\n",
    "'''\n",
    "\n",
    "soma = 0\n",
    "numinf = int(input('Digite o limite inferior: '))\n",
    "numsup = int(input('Digite o limite superior: '))\n",
    "\n",
    "for i in range(numinf,numsup + 1):\n",
    "    print(i)\n",
    "    soma = soma + i\n",
    "print(soma)"
   ]
  },
  {
   "cell_type": "markdown",
   "metadata": {},
   "source": [
    "### Prog_199_pag_144"
   ]
  },
  {
   "cell_type": "code",
   "execution_count": null,
   "metadata": {},
   "outputs": [],
   "source": [
    "'''\n",
    "CRIAR UM ALGORITMO QUE LEIA OS LIMITES INFERIOR E SUPERIOR DE UM INTERVALO E IMPRIMA TODOS OS MULTIPLOS DE 6\n",
    "NO INTERVALO FECHADO. SUPONHA QUE OS DADOS DIGITADOS SÃO PARA UM INTERVALO CRESCENTE. EXEMPLO:\n",
    "LIMITE INFERIOR : 5\n",
    "LIMITE SUPERIOR : 13\n",
    "SAÍDA : 6 12\n",
    "'''\n",
    "soma = 0\n",
    "numinf = int(input('Digite o número inferior: '))\n",
    "numsup = int(input('Diite o número superio: '))\n",
    "print('='*80)\n",
    "print('Entre {} e {}'.format(numinf,numsup))\n",
    "print()\n",
    "if numinf < numsup:\n",
    "    for i in range(numinf,numsup+1):\n",
    "        if i % 6 == 0:\n",
    "            soma = soma + i\n",
    "            print('Multiplo de 6 é {}'.format(i))\n",
    "else:\n",
    "    if numinf == numsup:\n",
    "        print('O número inferior não pode ser maior ou igual que o superior')\n",
    "    else:\n",
    "        print('O número inferior não pode ser maior que o superior')\n",
    "\n",
    "print('\\n{:=^70}'.format(' Soma dos valores inferior e superior '))\n",
    "print(soma)"
   ]
  },
  {
   "cell_type": "markdown",
   "metadata": {},
   "source": [
    "### Prog_200_pag_145"
   ]
  },
  {
   "cell_type": "code",
   "execution_count": null,
   "metadata": {},
   "outputs": [],
   "source": [
    "'''\n",
    "CRIAR UM ALGORITMO QUE LEIA OS LIMITES INFERIOR E SUPERIOR DE UM INTERVALO DE UM NÚEMRO CUJA OS MULTIPLOS\n",
    "SE DESEJA QUE SEJAM IMPRESSOS NO INTERVALO ABERTO. SUPONHA QUE OS DADOS DIGITADOS SÃO PARA UM INTERVALO. CRESCENTE.\n",
    "EXEMPLO:\n",
    "LIMITE INFERIOR : 3\n",
    "LIMITE SUPERIOR : 12\n",
    "NÚMERO : 3\n",
    "SAÍDA : 6 9\n",
    "'''\n",
    "\n",
    "\n",
    "numin = int(input('Digite o limite inferior: '))\n",
    "numsup = int(input('Digite o limite superior: '))\n",
    "num = int(input('Digite o multiplo: '))\n",
    "\n",
    "soma = 0\n",
    "print('{:=^70}'.format(' MULTIPLOS A PARTIR DE |{}| '.format(num)))\n",
    "if numin < numsup:\n",
    "    for i in range(numin, numsup):\n",
    "        if i % num == 0 and i != num:\n",
    "            soma = soma + i\n",
    "            print(i)\n",
    "else:\n",
    "    if numin == numsup:\n",
    "        print('Limite inferior é igual que o superior')\n",
    "    else:\n",
    "        print('Limite inferior é maior que o superior')\n",
    "print('{:=^70}'.format(' SOMA DOS MULTIPLOS '))\n",
    "print(soma)"
   ]
  },
  {
   "cell_type": "markdown",
   "metadata": {},
   "source": [
    "### Prog_201_pag_146"
   ]
  },
  {
   "cell_type": "code",
   "execution_count": null,
   "metadata": {},
   "outputs": [],
   "source": [
    "'''\n",
    "CRIAR UM ALGORITMO QUE LEIA OS LIMITES INFERIOR E SUPERIOR DE UM INTERVALO E IMPRIMIR TODOS OS NÚMEROS\n",
    "PARES NO INTERVALO ABERTO E SEUS SOMATÓRIOS. SUPONHA QUE OS DADOS DIGITADOS SÃO PARA UM INTERVALO\n",
    "CRESCENTE. EXEMPLO.\n",
    "LIMITE INFERIOR : 3\n",
    "LIMITE SUPERIOR : 12\n",
    "NUMERO : 3\n",
    "SAÍDA : 4 6 8 10\n",
    "SOMA : 28\n",
    "'''\n",
    "\n",
    "soma = int\n",
    "res = int\n",
    "numif = int(input('Digite o limite inferior: '))\n",
    "numsp = int(input('Digite o limite superior: '))\n",
    "num = int(input('Digite o intervalo: '))\n",
    "\n",
    "print('{:=^70}'.format(' RESULTADO DO INTERVALO '))\n",
    "soma = 0\n",
    "\n",
    "if num % 2 == 1:\n",
    "    for i in range(numif, numsp,):\n",
    "        if i % 2 == 0:\n",
    "            soma = soma + i\n",
    "            print(i)\n",
    "else:\n",
    "    for i in range(numif, numsp+1):\n",
    "        if i % num == 0:\n",
    "            soma = soma +i\n",
    "            print(i)\n",
    "print('\\n{:=^70}'.format(' SOMA DO INTERVALO |{}| '))\n",
    "print(soma)\n",
    "\n"
   ]
  },
  {
   "cell_type": "markdown",
   "metadata": {},
   "source": [
    "### Prog_202_pag_146"
   ]
  },
  {
   "cell_type": "code",
   "execution_count": null,
   "metadata": {},
   "outputs": [],
   "source": [
    "'''\n",
    "CRIAR UM ALGORITMO QUE LEIA UM NÚMERO (NUM) DE ENTRADA E IMPRIMA OS MULTIPLOS DE 3 E 5 AO MESMO TEMPO NO INTERVALO DE\n",
    "1 A NUM. EXEMPLO\n",
    "NÚMERO LIDO : 50\n",
    "SAÍDA : 15 30 45\n",
    "'''\n",
    "\n",
    "num = int(input('Digite um número: '))\n",
    "\n",
    "if num >= 15:\n",
    "    for i in range(1, num + 1):\n",
    "        if i % 3 == 0 and i % 5 == 0:\n",
    "            print(i, end=' ')\n",
    "else:\n",
    "    print('Não Existe')\n"
   ]
  },
  {
   "cell_type": "markdown",
   "metadata": {},
   "source": [
    "### Prog_203_pag_147"
   ]
  },
  {
   "cell_type": "code",
   "execution_count": null,
   "metadata": {},
   "outputs": [],
   "source": [
    "'''\n",
    "CRIE UM ALGORITMO QUE LEIA UM NÚMERO  (NUM) DA ENTRADA. EM SEGUIDA LER UM NÚEMRO DA ENTRADA E IMPRIMIR O\n",
    "TRIPLO DE CADA UM. EXEMPLO\n",
    "VALOR LIDO\n",
    "VALOR LIDO 3 - SAÍDA 9\n",
    "VALOR LIDO 10 - SAÍDA 30\n",
    "VALOR LIDO 12 - SAÍDA 36\n",
    "'''\n",
    "print('='*70)\n",
    "num = int(input('\\nDigite quantos números calculados para saber seu triplo: '))\n",
    "\n",
    "print('='*70)\n",
    "for i in range(1, num+1):\n",
    "    num1 = int(input('Digite o {} número: '.format(i)))\n",
    "    print('Triplo de {} '.format(num1 * 3))\n",
    "    print('='*70)"
   ]
  },
  {
   "cell_type": "markdown",
   "metadata": {},
   "source": [
    "### Prog_204_pag_147"
   ]
  },
  {
   "cell_type": "code",
   "execution_count": null,
   "metadata": {},
   "outputs": [],
   "source": [
    "'''\n",
    "CRIAR UM ALGORITMO QUE LEIA UM NÚEMRO DA ENTRADA (NUM) LEIA N NÚEMROS INTEIROS DA ENTRADA E IMPRIMIR\n",
    "O MAIOR DELES. SUPONHA QUE TODOS OS NÚMEROS LIDOS SERÃO POSITIVOS. EXEMPLO.\n",
    "'''\n",
    "\n",
    "\n",
    "'''\n",
    "print('='*80)\n",
    "maior = int\n",
    "num = int(input('Digite um número: '))\n",
    "maior = -1\n",
    "for i in range(1,num+1):\n",
    "    num1 = int(input('\\nDigite número: '))\n",
    "    if num1 > maior:\n",
    "        maior = num1\n",
    "print('O maior número digitado é {}'.format(maior))\n",
    "print('='*80)\n",
    "menor = 9999999\n",
    "num = int(input('Digite um número: '))\n",
    "for i in range(1,num+1):\n",
    "    num1 = int(input('\\nDigite número: '))\n",
    "    if num1 < menor:\n",
    "        menor = num1\n",
    "print('O menor núemro é {}'.format(menor))\n",
    "print('='*80)\n",
    "'''\n",
    "\n",
    "maior = 0\n",
    "menor = 0\n",
    "num = int(input('Digite o numero de laços: '))\n",
    "for i in range(1,num+1):\n",
    "    peso = int(input('Digite o 1 numero: '))\n",
    "    if i == 1:\n",
    "        maior = peso\n",
    "        menor = peso\n",
    "    if peso > maior:\n",
    "        maior = peso\n",
    "    if peso < menor:\n",
    "        menor = peso\n",
    "print('Maior numero digitado: {}'.format(maior))\n",
    "print('Menor nuemro digitado: {}'.format(menor))"
   ]
  },
  {
   "cell_type": "markdown",
   "metadata": {},
   "source": [
    "### Prog_205_pag_148"
   ]
  },
  {
   "cell_type": "code",
   "execution_count": null,
   "metadata": {},
   "outputs": [],
   "source": [
    "'''\n",
    "CRIAR UM ALGORITMO QUE LEIA UM NÚMERO DA ENTRADA (NUM), LEIA N NÚMEROS INTEIROS DA ENTRADA E IMPRIMA\n",
    "O MAIOR DELES. NÃO SUPONHA QUE TODOS OS NÚMEROS LIDOS SERÃO POSITIVOS . EXEMPLO\n",
    "NÚMERO DA ENTRADA (NUM)\n",
    "LEIA N NÚMEROS INTEIROS DA ENTRADA\n",
    "IMPRIMA O MAIOR DELES\n",
    "'''\n",
    "\n",
    "print('\\n{:=^70}'.format(' MÉTODO PARA ACHAR O MAIOR '))\n",
    "num = int(input('\\nDigite o numero de laços: '))\n",
    "m = num\n",
    "for i in range(1,num+1):\n",
    "    num2 = int(input('Digite os inteiros: '))\n",
    "    if num2 > m:\n",
    "        m = num2\n",
    "print('Maior Valor digitado foi {}'.format(m))"
   ]
  },
  {
   "cell_type": "markdown",
   "metadata": {},
   "source": [
    "### Prog_206_pag_149"
   ]
  },
  {
   "cell_type": "code",
   "execution_count": null,
   "metadata": {},
   "outputs": [],
   "source": [
    "'''\n",
    "CRIAR UM ALGORITMO QUE LEIA A QUANTIDADE DE NUMEROS QUE SE DESEJA DIGITAR PARA QUE POSSA SER\n",
    "IMPRESSO O MAIOR E O MENOR NUMERO DIGITADOS. NÃO SUPONHA QUE TODOS OS NUMEROS LIDOS SERÃO POSITIVOS.\n",
    "'''\n",
    "\n",
    "\n",
    "maior = 0\n",
    "menor = 0\n",
    "num = int(input('Digite o valor do laço: '))\n",
    "print('='*70)\n",
    "for i in range(1,num + 1):\n",
    "    num2 = int(input('Valor do numero: '))\n",
    "    if i == 1:\n",
    "        maior = num2\n",
    "        menor = num2\n",
    "    if num2 > maior:\n",
    "        maior = num2\n",
    "    if num2 < menor:\n",
    "        menor = num2\n",
    "print('='*70)\n",
    "print('Maior valor digitado foi: {}'.format(maior))\n",
    "print('\\nMenor valor digitado foi: {}'.format(menor))\n",
    "print('='*70)"
   ]
  },
  {
   "cell_type": "markdown",
   "metadata": {},
   "source": [
    "### Prog_207_pag_149"
   ]
  },
  {
   "cell_type": "code",
   "execution_count": null,
   "metadata": {},
   "outputs": [],
   "source": [
    "'''\n",
    "SABENDDO-SE QUE A UAL CALCULA O PRODUTO ATRAVÉS DE SOMAS SUCESSIVAS, CRIAR UMA ALGORITMO QUE CALCULE O PRODUTO\n",
    "DE DOIS NUMEROS INTEIROS LIDOS. SUPONHA QUE OS NUMEROS LIDOS SEJAM POSITIVOS E QUE MULTIPLICANDO SEJA MENOR QUE O\n",
    "MULTIPLICADOR.\n",
    "'''\n",
    "\n",
    "soma = 0\n",
    "num1 = int(input('Digite o 1 Valor: '))\n",
    "num2 = int(input('Digite o 2 valor: '))\n",
    "print('='*80)\n",
    "if num1 < num2:\n",
    "    for i in range(1,num2+1):\n",
    "        soma += num1\n",
    "        print(soma, end=',')\n",
    "    if soma > 0:\n",
    "        num = int(input('\\nInforme algum numero acima para, saber os seus multiplos: '))\n",
    "        for ii in range(1, num + 1):\n",
    "            if num % ii == 0:\n",
    "                print(ii, end=' ')\n",
    "\n",
    "else:\n",
    "    print('Valor 1 é maior que o valor 2')"
   ]
  },
  {
   "cell_type": "markdown",
   "metadata": {},
   "source": [
    "### Prog_208_pag_150"
   ]
  },
  {
   "cell_type": "code",
   "execution_count": null,
   "metadata": {},
   "outputs": [],
   "source": [
    "'''\n",
    "CRIAR UM ALGORITMO QUE IMPRIMA OS 10 PRIMEIROS TERMOS DA SERIE DE FIBONACCI .\n",
    "OBSERVAÇÃO : OS DOIS PRIMEIROS TERMOS DESTA SERIE SÃO 1 E 1 E OS DEMAIS SÃO GERADOS A PARTIR\n",
    "DA SOMA DOA ANTERIORES.\n",
    "EXEMPLO:\n",
    "1 + 1 = 2\n",
    "1 + 2 = 3\n",
    "'''\n",
    "\n",
    "\n",
    "print('='*80)\n",
    "num = int(input('Entre com a quantidade de numeros a serem somados: '))\n",
    "soma = int(input('Entre com o valor da soma: '))\n",
    "for i in range(1,num+1):\n",
    "    #soma += i\n",
    "    res = i + soma\n",
    "    print('{} + {} = {}'.format(soma,i,res))"
   ]
  },
  {
   "cell_type": "markdown",
   "metadata": {},
   "source": [
    "### Prog_209_pag_150"
   ]
  },
  {
   "cell_type": "code",
   "execution_count": null,
   "metadata": {},
   "outputs": [],
   "source": [
    "'''\n",
    "A SÉRIE DE RICCI DEFERE DA SERIE DE FIBONACCI PROQUE OS DOIS PRIMEIROS TERMOS SÃO FORNECIDOS PELO\n",
    "USUÁRIO. OS DEMAIS TERMOS SÃO GERADOS DA MESMA FORMA QUE A SERIE DE FIBONACCI. CRIAR UM ALGORITMO\n",
    "QUE IMRIMA OS N PRIMEIROS TERMOS DA SERIE DE RICCI E A SOMA DOS TERMOS IMPRESSOS, SABENDO - SE QUE PARA\n",
    "EXISTIR ESTA SERIE SERÃO NECESSÁRIO PELO MENOS TRES TERMOS.\n",
    "'''\n",
    "\n",
    "termo = int\n",
    "\n",
    "a1 = int(input('Entre com o primeiro termo: '))\n",
    "a2 = int(input('Entre com o segundo termo: '))\n",
    "n = int(input('Entre com N termos: '))\n",
    "soma = a1 + a2\n",
    "if n >= 3:\n",
    "    print('{} - {}'.format(a1,a2))\n",
    "\n",
    "    for i in range(1,(n-2)+1):\n",
    "        termo = a1 + a2\n",
    "        a1 = a2\n",
    "        a2 = termo\n",
    "        print(termo, end=' | ')\n",
    "        soma = soma + termo\n",
    "        print(soma, end=' ')\n",
    "else:\n",
    "    print('Não tem termo')"
   ]
  },
  {
   "cell_type": "markdown",
   "metadata": {},
   "source": [
    "### Prog_210_pag_151"
   ]
  },
  {
   "cell_type": "code",
   "execution_count": null,
   "metadata": {},
   "outputs": [],
   "source": [
    "'''\n",
    "A SERIE DE FETUCCINE É GERADA DA SEGUINTE FORMA: OS DOIS PRIMEIROS TERMOS FORNECIDOS PELO USUÁRIO; A PARTIR DAI, OS\n",
    "TERMOS SÃO GERADOS COM A SOMA OU SUBTRAÇÃO DOS DOIS TERMOS ANTERIORES, OU SEJA:\n",
    "CRIAR UM ALGORITMO QUE IMPRIMA OS 10 PRIMEIROS TERMOS DA SERIE DE FETUCCINE\n",
    "'''\n",
    "\n",
    "termo = int\n",
    "a1 = int(input('Entre com o primeiro termos: '))\n",
    "a2 = int(input('Entre com o segundo termo: '))\n",
    "\n",
    "print('{} - {}'.format(a1,a2))\n",
    "for i in range(1,10+1):\n",
    "    if i % 2 == 0:\n",
    "        termo = a1 - a2\n",
    "    else:\n",
    "        termo = a1 + a2\n",
    "        print(termo, end=' ')\n",
    "        a1 = a2\n",
    "        a2 = termo"
   ]
  },
  {
   "cell_type": "markdown",
   "metadata": {},
   "source": [
    "### Prog_211_pag_151"
   ]
  },
  {
   "cell_type": "code",
   "execution_count": null,
   "metadata": {},
   "outputs": [],
   "source": [
    "'''\n",
    "CRIAR UM ALGORITMO QUE IMPRIMA TODOS OS NÚEMROS INTEIROS E POSITIVOS NO INTERVALO ABERTO ENTRE 10 E 100 DE MODO QUE\n",
    "NÃO TERMINE EM ZERO\n",
    "SE O DIGITO DA DIREITA FOR REMOVIDO, O NUMERO RESTANTE É DIVISOR DO NÚMERO ORIGINAL.\n",
    "EXEMPLOS:\n",
    "26: 2 É DIVISOR 26\n",
    "80: 8 É DIVISOR DE 80\n",
    "'''\n",
    "\n",
    "for i in range(11,100+1):\n",
    "    if i % 10 != 0:\n",
    "        aux = i // 10\n",
    "        if i % aux == 0:\n",
    "            print(i)"
   ]
  },
  {
   "cell_type": "markdown",
   "metadata": {},
   "source": [
    "### Prog_212_pag_152"
   ]
  },
  {
   "cell_type": "code",
   "execution_count": null,
   "metadata": {},
   "outputs": [],
   "source": [
    "'''\n",
    "ENTRE COM 20 NUMEROS E IMPRIMIR A SOMA DOS NUMEROS CUJOS QUADRADO SÃO MENORES DO QUE 225\n",
    "'''\n",
    "\n",
    "lista = []\n",
    "\n",
    "soma = 0\n",
    "nl = int(input('Digite o numero de laços a ser executado: '))\n",
    "for i in range(1, nl+1):\n",
    "    num = int(input('Digite um numero: '))\n",
    "    if num ** 2 < 225:\n",
    "        soma += num\n",
    "        lista.append(num)\n",
    "print('Foram somados os seguintes numeros {} = '\n",
    "      '{}, pois esses ao quadrado não é MAIOR que 225'.format(lista,soma))\n"
   ]
  },
  {
   "cell_type": "markdown",
   "metadata": {},
   "source": [
    "### Prog_213_pag_152"
   ]
  },
  {
   "cell_type": "code",
   "execution_count": null,
   "metadata": {},
   "outputs": [],
   "source": [
    "'''\n",
    "ENTRAR COM 12 NUMEROS E IMPRIMIR A MEDIA DESES NUMEROS\n",
    "'''\n",
    "\n",
    "lista = []\n",
    "soma = 0\n",
    "nl = int(input('Entre com o numero de laços: '))\n",
    "for i in range(1,nl+1):\n",
    "    num = int(input('Digite um numero: '))\n",
    "    soma += num\n",
    "    lista.append(num)\n",
    "print('A soma de {} = {} e sua média = {:.2f}'.format(lista,soma,soma / nl))"
   ]
  },
  {
   "cell_type": "markdown",
   "metadata": {},
   "source": [
    "### Prog_215_pag_153"
   ]
  },
  {
   "cell_type": "code",
   "execution_count": null,
   "metadata": {},
   "outputs": [],
   "source": [
    "'''\n",
    "ENTRAR COM UM NUMERO E IMPRIMIR TODOS OS SEUS DIVISORES\n",
    "'''\n",
    "\n",
    "num = int(input('Entre com um numero: '))\n",
    "for i in range(1,num+1):\n",
    "    if num % i == 0:\n",
    "        print(i)"
   ]
  },
  {
   "cell_type": "markdown",
   "metadata": {},
   "source": [
    "### Prog_216_pag_154"
   ]
  },
  {
   "cell_type": "code",
   "execution_count": null,
   "metadata": {},
   "outputs": [],
   "source": [
    "'''\n",
    "LER 200 NUEMROS INTEIROS E IMPRIMIR QUANTOS SÃO PARES E QUANTOS SÃO IMPARES\n",
    "'''\n",
    "\n",
    "somap = 0\n",
    "num = int(input('Digite um numero: '))\n",
    "for i in range(1, num + 1):\n",
    "    if i % 2 == 0:\n",
    "        somap = somap + 1\n",
    "print('='*80)\n",
    "print('Pares: ',somap)\n",
    "print('impares: ',num - somap)"
   ]
  },
  {
   "cell_type": "markdown",
   "metadata": {},
   "source": [
    "### Prog_217_pag_154"
   ]
  },
  {
   "cell_type": "code",
   "execution_count": null,
   "metadata": {},
   "outputs": [],
   "source": [
    "'''\n",
    "ENTRAR COM 8 NOMES E IMPRIMIR QUANTAS LETRAS TEM CADA NOME\n",
    "'''\n",
    "\n",
    "soma = 0\n",
    "num = int(input('numeros de laços: '))\n",
    "print('='*80)\n",
    "for i in range(1,num+1):\n",
    "    nome = str(input('Entro com seu nome: '))\n",
    "    print('Seu nome tem {} letras'.format(len(nome)))\n",
    "    soma += 1\n",
    "    print('='*80)\n",
    "print('Foram Digitados {} Nomes'.format(num))\n",
    "print('='*80)"
   ]
  },
  {
   "cell_type": "markdown",
   "metadata": {},
   "source": [
    "### Prog_218_pag_155"
   ]
  },
  {
   "cell_type": "code",
   "execution_count": null,
   "metadata": {},
   "outputs": [],
   "source": [
    "'''\n",
    "ENTRE COM 12 NOMES E IMPRIMIR O PRIMEIRO CARACTER DE CADA NOME.\n",
    "'''\n",
    "\n",
    "soma = 0\n",
    "num = int(input('Entre com numeros de laços: '))\n",
    "print('='*80)\n",
    "for i in range(1, num + 1):\n",
    "    nome = str(input('Entre com seu nome: '))\n",
    "    print('Seu nome inicia com a letar ({})'.format(nome[:1]))\n",
    "    soma += 1\n",
    "    print('=' * 80)\n",
    "print('Foram digitados {} Nomes: '.format(num))"
   ]
  },
  {
   "cell_type": "markdown",
   "metadata": {},
   "source": [
    "### Prog_219_pag_155"
   ]
  },
  {
   "cell_type": "code",
   "execution_count": null,
   "metadata": {},
   "outputs": [],
   "source": [
    "'''\n",
    "ENTRAR COM O NUMERO DE VEZES QUE SE DESEJA IMPRIMIR A PALAVRA (SOL) E IMPRIMIR\n",
    "'''\n",
    "\n",
    "soma = 0\n",
    "num = int(input('Entre com quantidade de laços: '))\n",
    "for i in range(1,num+1):\n",
    "    print('SOL')\n",
    "    soma += 1\n",
    "print('='*80)\n",
    "print('Foram impressos {} vezes a palavra SOL'.format(num))\n"
   ]
  },
  {
   "cell_type": "markdown",
   "metadata": {},
   "source": [
    "### Prog_220_pag_155"
   ]
  },
  {
   "cell_type": "code",
   "execution_count": null,
   "metadata": {},
   "outputs": [],
   "source": [
    "'''\n",
    "ENTRAR COM UM NOME E IMPRIMI-LO TANTAS VEZES QUANTOS FOREM SEUS CARCTERES\n",
    "'''\n",
    "\n",
    "soma = 0\n",
    "print('{:=^70}'.format(' NOME '))\n",
    "nome = str(input('Entre com um nome: '))\n",
    "print('{:=^70}'.format(' NUMEROS DE CARACTERES {} REPETIÇÕES '.format(len(nome))))\n",
    "for i in range(1,len(nome)+1):\n",
    "    print(nome)\n",
    "    soma += 1\n",
    "print('{:=^70}'.format(' SOMA DO LAÇO '))\n",
    "print(soma)"
   ]
  },
  {
   "cell_type": "markdown",
   "metadata": {},
   "source": [
    "### Prog_221_pag_156"
   ]
  },
  {
   "cell_type": "code",
   "execution_count": null,
   "metadata": {},
   "outputs": [],
   "source": [
    "'''\n",
    "CRIAR UM ALGORITMO QUE ENTRE COM UMA PALAVRA E IMPRIMA CONFORME O EXEMPLO SEGUIR\n",
    "PALAVRA: PAZ\n",
    "P\n",
    "A\n",
    "Z\n",
    "'''\n",
    "\n",
    "\n",
    "nome = str(input('Entre com uma palavra: '))  #ENTRAR COM O NOME\n",
    "nv = nome[:len(nome)]                         #IRÁ CONTAR QUANTAS LETRAS FORAM DIGITADAS\n",
    "for i in range(0,len(nv)):                    #O FOR IRÁ FAZER O CONTADOR DE QUANTAS LETRAS\n",
    "    print(nv[i])                              #IRÁ IMPRIMIR CADA LETRA CONFORME SEU CONTADOR\n",
    "print('='*80)\n",
    "print(nv)"
   ]
  },
  {
   "cell_type": "markdown",
   "metadata": {},
   "source": [
    "### Prog_222_pag_156"
   ]
  },
  {
   "cell_type": "code",
   "execution_count": null,
   "metadata": {},
   "outputs": [],
   "source": [
    "'''\n",
    "CRIAR UM ALGORITMO QUE ENTRE COM UMA PALAVRA E IMPRIMA CONFORME O EXEMPLO A SEGUIR;\n",
    "PAZ\n",
    "ZAP\n",
    "'''\n",
    "\n",
    "nome = str(input('Entre com um nome: '))\n",
    "nov = nome[:len(nome)]\n",
    "for i in reversed(range(0,len(nov))):        #USO DO REVERSED NO FOR, IRÁ INVERTER O CONTADOR CONFORME A PALAVRA DIGITADA\n",
    "    print(nov[i],end='')"
   ]
  },
  {
   "cell_type": "markdown",
   "metadata": {},
   "source": [
    "### Prog_223_pag_156"
   ]
  },
  {
   "cell_type": "code",
   "execution_count": null,
   "metadata": {},
   "outputs": [],
   "source": [
    "'''\n",
    "CRIAR UM ALGORITMO QUE ENTRE COM UMA PALAVRA E IMPRIMIA CONFORME O EXEMPLO A SEGUIR:\n",
    "PALAVRA : AMOR\n",
    "A\n",
    "AM\n",
    "AMO\n",
    "AMOR\n",
    "'''\n",
    "\n",
    "nome = str(input('Entre com o nome: '))\n",
    "nov = nome[:len(nome)]\n",
    "'''\n",
    "print(nov[0:len(nov)-4])\n",
    "print(nov[0:len(nov)-3])\n",
    "print(nov[0:len(nov)-2])\n",
    "print(nov[0:len(nov)-1])\n",
    "print(nov[0:len(nov)-0])\n",
    "'''\n",
    "print('='*80)\n",
    "for i in reversed(range(0,len(nov))):\n",
    "    print(nov[0:len(nov)-i])"
   ]
  },
  {
   "cell_type": "markdown",
   "metadata": {},
   "source": [
    "### Prog_224_pag_157"
   ]
  },
  {
   "cell_type": "code",
   "execution_count": null,
   "metadata": {},
   "outputs": [],
   "source": [
    "'''\n",
    "CRIAR UM ALGORITMO QUE ENTRE COM UMA PALAVRA E IMPRIMA CONFORME O EXMPLO A SEGUIR\n",
    "'''\n",
    "\n",
    "nome = str(input('Entre com um nome: '))\n",
    "nov = nome[:len(nome)]\n",
    "for i in range(0,len(nov)):\n",
    "    print(nov[0:len(nov) - i])"
   ]
  },
  {
   "cell_type": "markdown",
   "metadata": {},
   "source": [
    "### Prog_225_pag_157"
   ]
  },
  {
   "cell_type": "code",
   "execution_count": null,
   "metadata": {},
   "outputs": [],
   "source": [
    "'''\n",
    "CRIAR QUE ENTRE COM UMA PALAVRA E IMPRIMIR CONFORME O EXEMPLO A SEGUIR:\n",
    "PALAVRA : TERRA\n",
    "A\n",
    "RA\n",
    "RRA\n",
    "ERRA\n",
    "TERRA\n",
    "'''\n",
    "\n",
    "nome = str(input('Entre com um nome: '))\n",
    "nov = nome[:len(nome)]\n",
    "print('='*80)\n",
    "for i in reversed(range(0,len(nov)+1)):\n",
    "    print(nov[i:len(nov)])"
   ]
  },
  {
   "cell_type": "markdown",
   "metadata": {},
   "source": [
    "### Prog_226_pag_158"
   ]
  },
  {
   "cell_type": "code",
   "execution_count": null,
   "metadata": {},
   "outputs": [],
   "source": [
    "'''\n",
    "CRIAR UM ALGORITMO QUE ENTRE COM UMA PALAVRA EIMRPIMIR CONFORME O EXEMPLO A SEGUIR.\n",
    "PALAVRA : TERRA\n",
    "TERRA\n",
    "ERRA\n",
    "RRA\n",
    "RA\n",
    "A\n",
    "'''\n",
    "\n",
    "nome = str(input('Entre com um nome: '))\n",
    "nov = nome[:len(nome)]\n",
    "for i in range(0,len(nov)):\n",
    "    print(nov[i:len(nov)])"
   ]
  },
  {
   "cell_type": "markdown",
   "metadata": {},
   "source": [
    "### Prog_227_pag_158"
   ]
  },
  {
   "cell_type": "code",
   "execution_count": null,
   "metadata": {},
   "outputs": [],
   "source": [
    "'''\n",
    "CRIAR UM ALGORITMO QUE ENTRE COM UMA PALAVRA E, SE A PALAVRA TIVER NUMERO IMPAR DE CARACTER, IMPRIMA CONFORME O EXEMPLO\n",
    "A SEGUIR ; CASO CONTRARIO, IMPRIMA NÃO FAÇO\n",
    "PALAVRA : SONHO\n",
    "SONHO\n",
    "ONHO\n",
    "N\n",
    "'''\n",
    "\n",
    "\n",
    "nome = str(input('Entre com uma palavra: '))\n",
    "nov = len(nome)\n",
    "if nov % 2 == 1:\n",
    "    nom = nome[:len(nome)]\n",
    "    for i in (range(0,len(nom) // 2)):\n",
    "        print(nom[i:len(nom)])\n",
    "    for ii in range(0,len(nom) // len(nom)):\n",
    "        print(nom[len(nom)//2])\n",
    "\n",
    "else:\n",
    "    print('Se a palavra tiver numeros pares, (não faça).'\n",
    "          '\\nQuantidade de caracteres digitados {}'.format(nov))"
   ]
  },
  {
   "cell_type": "markdown",
   "metadata": {},
   "source": [
    "### Prog_228_pag_159"
   ]
  },
  {
   "cell_type": "code",
   "execution_count": null,
   "metadata": {},
   "outputs": [],
   "source": [
    "'''\n",
    "CRIAR UM ALGORITMO QUE ENTRE COM UMA PALAVRA E, SE PALAVRA TIVER NUMERO IMPAR DE CARACTER, IMPRIMA CONFORME O\n",
    "EXEMPLO A SEGUIR; CASO CONTARIO, IMPRIMA: NÃO FAÇO.\n",
    "PALAVRA : SONHO\n",
    "N\n",
    "ONH\n",
    "SONHO\n",
    "'''\n",
    "\n",
    "nome = str(input('Entre com o nome: '))\n",
    "nov = len(nome)                                         # VARIAVEL (nov) IRÁ CONTAR QUANTOS CARACTERES FORAM DIGITADOS\n",
    "if nov % 2 == 1:                                        # SE NUMEROS DE CARACTERES FOR IMPAR EXECUTA O BLOCO\n",
    "   nom = nome[:len(nome)]                               # VARIAVEL (nom) RECEBE A PALAVRA CONFORME SE FOR A CONDIÇÃO IMPAR\n",
    "   print('{:=^70}'.format('CONDIÇÃO FAÇA'))             # LINHA PARA SEPARAR A ENTRADA DIGITADA\n",
    "   for i in range(0, len(nom) // len(nom)):             # FOR PARA CONTAR O NUMERO DE VEZES (LOOP), (len(nom) // len(nom)) REPRESENTA 5 / 5 RETORNADO O VALOR INTEIRO. PROTANTO TEREMOS SOMENTE 1 LINHA\n",
    "    print(nom[len(nom)//2])                             # RETORNA UMA LETRAR, A METADE DA PALAVRA\n",
    "   for ii in range(0, len(nom) // len(nom)):\n",
    "       print(nom[1:len(nom)-1])                         # RETIRA A PRIMEIRA E A ULTIMA LETRA CONFORME A VARIAVEL (nov)\n",
    "   for iii in range(0, len(nom) // len(nom)):\n",
    "       print(nom[i:len(nom)])                           # RETORNA TODA PALAVRA CONFORME A VARIAVEL (nov)\n",
    "else:                                                   # SE NÃO FOR IMPAR, EXECUTA NÃO FAÇA\n",
    "    print('{:=^70}'.format('CONDIÇÃO NÃO FAÇA'))        # LINHA PARA SEPARAR A ENTRADA DIGITADA\n",
    "    print('\\nSe a palavra tiver numeros pares, '\n",
    "          '(não faça).\\nQuantidade de caracteres'\n",
    "          ' digitados {}'.format(nov))\n",
    "print('='*70)"
   ]
  },
  {
   "cell_type": "markdown",
   "metadata": {},
   "source": [
    "### Prog_229_pag_160"
   ]
  },
  {
   "cell_type": "code",
   "execution_count": null,
   "metadata": {},
   "outputs": [],
   "source": [
    "'''\n",
    "ENTRAR COM UM NOME E IMPRIMIR AS LETRAS QUE SE ENCONTRAM NAS POSIÇÕES PARES\n",
    "'''\n",
    "\n",
    "nome = str(input('Entre com o nome: '))\n",
    "nov = nome[:len(nome)]\n",
    "for i in range(0,len(nov),2):\n",
    "    if i % 2 == 0:\n",
    "        print('NUMEROS PARES |{}| LETRAS REFERENTES AOS NUMEROS PARES {}'.format(i,nov[i].upper()))"
   ]
  },
  {
   "cell_type": "markdown",
   "metadata": {},
   "source": [
    "### Prog_230_pag_160"
   ]
  },
  {
   "cell_type": "code",
   "execution_count": null,
   "metadata": {},
   "outputs": [],
   "source": [
    "'''\n",
    "ENTRAR COM O NOME E IMPRIMIR AS LETRAS QUE SE ENCONTRAM AS POSIÇÕES IMPARES DE TRAS PARA FRENTE\n",
    "'''\n",
    "\n",
    "name = str(input('Entre com um nome: '))\n",
    "newName = name[:len(name)]\n",
    "for i in reversed(range(0,len(newName))):\n",
    "    if i % 2 != 0:\n",
    "        print('NUMERO IMPAR |{}| LETRA REFERENTE AO NUMERO |{}|'.format(i,newName[i].upper()))"
   ]
  },
  {
   "cell_type": "markdown",
   "metadata": {},
   "source": [
    "### Prog_231_pag_161"
   ]
  },
  {
   "cell_type": "code",
   "execution_count": null,
   "metadata": {},
   "outputs": [],
   "source": [
    "'''\n",
    "ENTRE COM 15 NUMEROS E IMPRMIR QUANTOS NUMEROS MAIORES QUE 30 FORAM DIGITADOS\n",
    "'''\n",
    "\n",
    "lista2 = []\n",
    "lista = []\n",
    "maior = 0\n",
    "for i in range(1, 3+1):\n",
    "    num = int(input('Entre com um numero: '))\n",
    "    if num >= 30:\n",
    "        lista.append(num)\n",
    "    if num < 30:\n",
    "        lista2.append(num)\n",
    "print('{:=^80}'.format(' SOMA DOS MAIORES NUMEROS '))\n",
    "print('RESULTADO {}'.format(sum(lista)))\n",
    "print('='*80)\n",
    "print('NUMEROS MAIORES QUE 30 QUE FORAM DIGITADOS: {}'.format(lista))\n",
    "print('='*80)\n",
    "print(lista2)\n",
    "print('='*80)"
   ]
  },
  {
   "cell_type": "markdown",
   "metadata": {},
   "source": [
    "### Prog_233_pag_162"
   ]
  },
  {
   "cell_type": "code",
   "execution_count": null,
   "metadata": {},
   "outputs": [],
   "source": [
    "'''\n",
    "ENTRAR COM DOIS NUMEROS E IMPRIMIR TODOS OS NUMEROS NO INTERVALO FECHADO, DO MENOR PARA O MAIOR\n",
    "'''\n",
    "\n",
    "num1 = int(input('Entre com o primeiro numero: '))\n",
    "num2 = int(input('Entre com o segundo numero: '))\n",
    "if num1 > num2:\n",
    "    aux = num1\n",
    "    num1 = num2\n",
    "    num2 = aux\n",
    "    for i in range(num1,num2+1):\n",
    "        print(i,end=', ')\n",
    "else:\n",
    "    for i in range(num1,num2+1):\n",
    "        print(i,end=', ')"
   ]
  },
  {
   "cell_type": "markdown",
   "metadata": {},
   "source": [
    "### Prog_234_pag_162"
   ]
  },
  {
   "cell_type": "code",
   "execution_count": null,
   "metadata": {},
   "outputs": [],
   "source": [
    "'''\n",
    "ENTRAR COM O NOME E SALARIO BRUTO DE 10 PESSOAS. IMPRIMIR NOME E O VALOR DA ALIQUOTA DO IMPOSTO DE RENDA\n",
    "SALRIO MENOR QUE R$ 600,00 ------------------------ ISNETO\n",
    "SALRIO >= R$ 600,00 E < 1500,00 ------------------- 10% DO SALRIO BRUTO\n",
    "SALRIO >= R$ 1500,00 ------------------------------ 15% DO SALRIO BRUTO\n",
    "'''\n",
    "\n",
    "\n",
    "temp = []\n",
    "princ = []\n",
    "for i in range(1,10+1):\n",
    "    temp.append(str(input('Entre com um nome: ')))\n",
    "    temp.append(float(input('Salario Bruto: ')))\n",
    "    princ.append(temp[:])\n",
    "    temp.clear()\n",
    "print('\\n')\n",
    "print('{:=^110}'.format(' RESULTADO '))\n",
    "for ii in range(0,i):\n",
    "    res = 1\n",
    "    #print(ii,res)\n",
    "    #print(ii,res-1)\n",
    "    #print(princ[ii][res-1],princ[ii][res])\n",
    "    if princ[ii][res] < 600:\n",
    "        print('Sr(a): {} SEU SALARIO É MENOR QUE R$600,00 ---- SALARIO INFORMADO R${:.2f}'.format(princ[ii][res-1],princ[ii][res]))\n",
    "        print('PORTANTO O Sr(A) ESTA ISENTO DE DESCONTO NA FOLHA DE PAGAMENTO')\n",
    "        print('=' * 110)\n",
    "    else:\n",
    "        if princ[ii][res] >= 600 and princ[ii][res] < 1500:\n",
    "            saldes = int(princ[ii][res] * 10 / 100)\n",
    "            print('Sr(a): {} SEU SALARIO ESTA NA FAIXA ENTRE R$600,00 e R$1500,00 ----- SALARIO INFORMADO R${:.2F}'.format(princ[ii][res-1],princ[ii][res]))\n",
    "            print('DESCONTA 10% ----- R${:.2f}'.format(saldes))\n",
    "            print('SALARIO A RECEBER É DE R${:.2f}'.format(princ[ii][res] - saldes))\n",
    "            print('=' * 110)\n",
    "        else:\n",
    "            if princ[ii][res] >= 1500:\n",
    "                saldes = int(princ[ii][res] * 15 / 100)\n",
    "                print('Sr(a): {} SEU SALARIO ESTA ACIMA DE R$1500,00 ------ SALARIO INFORMADO R${:.2F}'.format(princ[ii][res-1],princ[ii][res]))\n",
    "                print('DESCONTA 15% ----- R${:.2F}'.format(saldes))\n",
    "                print('SALARIO A RECEBER É DE R${:.2f}'.format(princ[ii][res] - saldes))\n",
    "                print('=' * 110)\n",
    "print('\\n')\n",
    "print('{:=^110}'.format(' PARTICIPANTES '))\n",
    "print(f'OBRIGADO PELAS INFORMAÇẼOS {len(princ)} PESSOAS PARTICPARAM DA PESQUISA ')\n",
    "for iii in range(0,i):\n",
    "    resultnome = 0\n",
    "    resultsal = 1\n",
    "    #print(iii)\n",
    "    #print(resultnome,iii)\n",
    "    #print(iii,resultsal)\n",
    "    if princ[iii][resultsal] < 600:\n",
    "        print('{}, ESTA ISENTO DE DESCONTO'.format(princ[iii][resultnome]))\n",
    "    elif princ[iii][resultsal] >= 600 and princ[iii][resultsal] < 1500:\n",
    "        print('{}, SEU DESCONTO FOI DE -------- 10%'.format(princ[iii][resultnome]))\n",
    "    elif princ[iii][resultsal] >= 1500:\n",
    "        print('{}, SEU DESCONTO FOI DE -------- 15%'.format(princ[iii][resultnome]))\n",
    "    #print(princ[iii][resultnome])\n",
    "print('='*110)"
   ]
  },
  {
   "cell_type": "markdown",
   "metadata": {},
   "source": [
    "### Prog_235_pag_163"
   ]
  },
  {
   "cell_type": "code",
   "execution_count": null,
   "metadata": {},
   "outputs": [],
   "source": [
    "'''\n",
    "ENTRE COM DEZ NUMEROS (POSITIVOS OU NEGATIVO) E IMPRIMIR O MAIOR E O MENOR NUMERO DA LISTA\n",
    "'''\n",
    "\n",
    "\n",
    "menor = 0\n",
    "maior = 0\n",
    "for i in range(1, 10+1):\n",
    "    num = int(input('Entre com um numero: '))\n",
    "    if num == 1:\n",
    "        maior = num\n",
    "        menor = num\n",
    "    if num > maior:\n",
    "        maior = num\n",
    "    if num < menor:\n",
    "        menor = num\n",
    "print('Maior {}'.format(maior))\n",
    "print('Menor {}'.format(menor))"
   ]
  },
  {
   "cell_type": "markdown",
   "metadata": {},
   "source": [
    "### Prog_236_pag_163"
   ]
  },
  {
   "cell_type": "code",
   "execution_count": null,
   "metadata": {},
   "outputs": [],
   "source": [
    "'''\n",
    "LER O NUMERO DE TERMOS DA SERIE (N) E IMPRIMIR O VALOR DE H, SENDO:\n",
    "H = 1 + 1 + 1 + 1 + ... + 1\n",
    "        2   3   4         N\n",
    "'''\n",
    "\n",
    "\n",
    "num = int(input('Entre com o numero da serie: '))\n",
    "#h = 0\n",
    "print('{:=^80}'.format(' RETORNO '))\n",
    "for i in range(2,num+1):\n",
    "    h = 1+ 1/i\n",
    "    print('TERMO DA SERIE ({}) É O VALOR DE ==== {:.2F}'.format(i,h))\n",
    "print('='*80)"
   ]
  },
  {
   "cell_type": "markdown",
   "metadata": {},
   "source": [
    "### Prog_237_pag_164"
   ]
  },
  {
   "cell_type": "code",
   "execution_count": null,
   "metadata": {},
   "outputs": [],
   "source": [
    "'''\n",
    "LER O NUMERO DE TERMOS DA SERIE (N) E IMPRIMIR O VALOR DE H. SENDO\n",
    "H = 1 + 1 + 1 + 1 + ... + 1\n",
    "        2   3   4         N\n",
    "'''\n",
    "\n",
    "soma2 = 0\n",
    "soma1 = 0\n",
    "h = 0\n",
    "num = int(input('Entre com um numero: '))\n",
    "print('{:=^80}'.format( 'VALORES IMPARES '))\n",
    "for i in range(1,num+1):\n",
    "    if i % 2 == 1:\n",
    "        h = h + 1 / i\n",
    "        soma1 += h\n",
    "        print('VALOR DE ({}) ==== {}'.format(i,h))\n",
    "print('\\n{:=^80}'.format(' VALORES PARES '))\n",
    "for ii in range(1,num+1):\n",
    "    if ii % 2 == 0:\n",
    "        h = h + 1 / ii\n",
    "        soma2 += h\n",
    "        print('VALOR DE ({}) ==== {}'.format(ii,h))\n",
    "print('\\n{:=^80}'.format(' RESULTADO '))\n",
    "print('SOMA DOS VALORES IMPARES: {:.2f} '.format(soma1))\n",
    "print('SOMA DOS VALORES PARES: {:.2f} '.format(soma2))\n",
    "print('='*80)"
   ]
  }
 ],
 "metadata": {
  "kernelspec": {
   "display_name": "Python 3",
   "language": "python",
   "name": "python3"
  },
  "language_info": {
   "codemirror_mode": {
    "name": "ipython",
    "version": 3
   },
   "file_extension": ".py",
   "mimetype": "text/x-python",
   "name": "python",
   "nbconvert_exporter": "python",
   "pygments_lexer": "ipython3",
   "version": "3.7.3"
  }
 },
 "nbformat": 4,
 "nbformat_minor": 2
}
