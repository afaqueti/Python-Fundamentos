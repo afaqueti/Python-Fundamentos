{
 "cells": [
  {
   "cell_type": "markdown",
   "metadata": {},
   "source": [
    "# Estrutura de Repetição - WHILE -ESTRUTURA DO ENQUANTO"
   ]
  },
  {
   "cell_type": "markdown",
   "metadata": {},
   "source": [
    "## Python Fundamentos"
   ]
  },
  {
   "cell_type": "markdown",
   "metadata": {},
   "source": [
    "#### Lista de Exercicios"
   ]
  },
  {
   "cell_type": "markdown",
   "metadata": {},
   "source": [
    "### Prog_259_pag_179"
   ]
  },
  {
   "cell_type": "code",
   "execution_count": null,
   "metadata": {},
   "outputs": [],
   "source": [
    "'''\n",
    "METODO ENQUANTO\n",
    "IMPRIMIA P DOBRO DE UM NUMERO\n",
    "PARA ESSE CASO O ALGORITMO ENTRERÁ EM LOOP:\n",
    "'''\n",
    "\n",
    "num = int(input('Entre com um numero: '))\n",
    "while num > 10:\n",
    "    print('O dobro {} de {}'.format(num,num*2))"
   ]
  },
  {
   "cell_type": "markdown",
   "metadata": {},
   "source": [
    "### Prog_260_pag_180"
   ]
  },
  {
   "cell_type": "code",
   "execution_count": null,
   "metadata": {},
   "outputs": [],
   "source": [
    "'''\n",
    "COMANDO DE LEITURA PARA ENTRAR NA ESTRUTURA DE ENQUANTO E UM PARA PODE SAIR.\n",
    "'''\n",
    "\n",
    "num = int(input('Entre com oum numero: '))\n",
    "while num > 0:\n",
    "    print('O dobro de {} = {}'.format(num,num * 2))\n",
    "    num = int(input('Entre com oum numero: '))"
   ]
  },
  {
   "cell_type": "markdown",
   "metadata": {},
   "source": [
    "### Prog_261_pag_182"
   ]
  },
  {
   "cell_type": "code",
   "execution_count": null,
   "metadata": {},
   "outputs": [],
   "source": [
    "'''\n",
    "MENU UM POUCO DE TUDO\n",
    "A - ARMAZENA NA VARIAVEL MENOR E IMPRIMIA O NOME QUE TIVERO MENOR NUMERO DE CARACTERES ENTRE TRES.\n",
    "B - GERA E IMPRIMA UMA NOVA PALAVRA.\n",
    "C - CALCULE A RAIZ A QUARTA DE UM NUEMRO.\n",
    "'''\n",
    "\n",
    "print('\\n{:=^80}'.format('ESCOLHA'))\n",
    "print('OPÇAO (A) PARA:')\n",
    "print('ARMAZENA NA VARIAVEL MENOR E IMPRIMIA O NOME QUE TIVERO MENOR\\nNUMERO DE CARACTERES ENTRE TRES.')\n",
    "print('\\nOPÇÃO (B) PARA:')\n",
    "print('GERA E IMPRIMA UMA NOVA PALAVRA.')\n",
    "print('\\nOPÇÃO (C)')\n",
    "print('ALCULE A RAIZ A QUARTA DE UM NUEMRO.')\n",
    "print('\\nOPÇÃO (F)')\n",
    "print('FINALIZAR')\n",
    "print('='*80)\n",
    "\n",
    "op = str(input('\\nOPÇÃO: '))\n",
    "\n",
    "if op == 'A' or op == 'a':\n",
    "    menor = int\n",
    "    nome1 = str(input('\\nEntre com o primeiro nome: '))\n",
    "    nome2 = str(input('Entre com o segundo nome: '))\n",
    "    nome3 = str(input('Entre com o terceiro nome: '))\n",
    "    if len(nome1) < len(nome2):\n",
    "        menor = nome1\n",
    "    else:\n",
    "        if len(nome3 ) < len(nome1):\n",
    "            menor = nome3\n",
    "        else:\n",
    "            menor = nome2\n",
    "    print('\\nO NOME COM MENOR NUMERO DE CARACTERES É: {} com |{}|'.format(menor,len(menor)))\n",
    "    print('='*80)\n",
    "else:\n",
    "    print('='*80)\n",
    "    if op == 'B' or op == 'b':\n",
    "        nome1 = str(input('Entre com o novo nome: '))\n",
    "        if len(nome1) > 5:\n",
    "            n = len(nome1) - 2\n",
    "            nome2 = nome1[0]\n",
    "            nome3 = nome1[1:len(nome1)]\n",
    "            np = nome2 + nome3\n",
    "            print(nome2)\n",
    "            print(nome3)\n",
    "            print('\\nNOME FOI CONCATENADO, CONFORME SUA GERAÇÃO NA ENTRADA\\n'\n",
    "                  'E POR TER MAIS DE 5 CARACTERES: |{}|'.format(np))\n",
    "            print('='*80)\n",
    "        else:\n",
    "            n = len(nome1) - 3\n",
    "            np = nome1[1:len(nome1)]\n",
    "            print(np)\n",
    "    else:\n",
    "        if op == 'C' or op == 'c':\n",
    "            num = float(input('Entre com um numero: '))\n",
    "            if num >= 0:\n",
    "                print('RAIZ DA QUARTA DE UM NUMERO = {:.3f}'.format(num ** (1/4)))\n",
    "            else:\n",
    "                print('NÃO PODE SEER FEITO')\n",
    "        else:\n",
    "            if op == 'F' or op == 'f':\n",
    "                print('FINALIZADO')"
   ]
  },
  {
   "cell_type": "markdown",
   "metadata": {},
   "source": [
    "### Prog_262_pag_185"
   ]
  },
  {
   "cell_type": "code",
   "execution_count": null,
   "metadata": {},
   "outputs": [],
   "source": [
    "'''\n",
    "ENTRAR COM NUEMRO E IMPRIMIR O TRIPLO DE CADA NUMERO. O LAGORITMO ACABA QUANDO ENTRA O NUEMRO -9\n",
    "'''\n",
    "\n",
    "num = int(input('Entre com um numero: '))\n",
    "while num != -9:\n",
    "    print('='*80)\n",
    "    print('O TRIPLO DE {} É = {}'.format(num,num * 3))\n",
    "    print('DIGITE (-9) SE QUISER PARA O PROGRAMA')\n",
    "    print('='*80)\n",
    "    num = int(input('Digite (-9) se quiser para:'))"
   ]
  },
  {
   "cell_type": "markdown",
   "metadata": {},
   "source": [
    "### Prog_263_pag_186"
   ]
  },
  {
   "cell_type": "code",
   "execution_count": null,
   "metadata": {},
   "outputs": [],
   "source": [
    "'''\n",
    "ENTRAR COM NUMEROS ENQUANTO FOREM POSITIVOS E IMPRMIR QUANTOS NUMEROS FORAM DIGITADOS\n",
    "'''\n",
    "\n",
    "soma = 0\n",
    "a = 0\n",
    "print('='*80)\n",
    "print('POR FAVOR, ENTRE COM UMA SEQUENCIA DE NUMEROS:')\n",
    "print('Digite um numero negativo caso queira PARAR a sequencia OBRIGADO!')\n",
    "print('='*80)\n",
    "conf = str(input('VOCÊ QUER INICIAR O CADASTRO ? |SIM ou NÃO|: '))\n",
    "while conf == 'S' or conf == 's' or conf == 'SIM' or conf == 'sim':\n",
    "    num = int(input('CADASTRE {}-NUMERO: '.format(a+1)))\n",
    "    a += 1\n",
    "    soma += num\n",
    "    if num < 0:\n",
    "        conf = str(input('VOCÊ QUER CONTINUAR O CADASTRO ? |SIM ou NÃO|: '))\n",
    "    if a % 4 == 0:\n",
    "        conf = str(input('VOCÊ QUER CONTINUAR O CADASTRO ? |SIM ou NÃO|: '))\n",
    "#============================================================================================\n",
    "    '''num = int(input('\\nCADASTRE OS NUMEROS: '))\n",
    "    while num > 0:\n",
    "        a += 1\n",
    "        soma += num\n",
    "        num = int(input('CADASTRE {} OS NUMEROS: '.format(a)))\n",
    "    '''\n",
    "#============================================================================================\n",
    "print('\\nLEMBRANDO QUE O NUMERO NEGATIVO NÃO SERÁ SOMADO,\\n'\n",
    "      'POIS ELE QUEBROU A SEQUENCIA DE INFORMAÇÕES DIGITADAS')\n",
    "print('\\n{:=^80}'.format(' RESULTADO '))\n",
    "print('\\nTOTAL DE NUMEROS DIGITADOS É = {}'.format(a))\n",
    "print('A SOMA DOS NUMEROS É = {}'.format(soma))\n",
    "print('='*80)"
   ]
  },
  {
   "cell_type": "markdown",
   "metadata": {},
   "source": [
    "### Prog_264_pag_186"
   ]
  },
  {
   "cell_type": "code",
   "execution_count": null,
   "metadata": {},
   "outputs": [],
   "source": [
    "'''\n",
    "ENTRAR COM VARIOS NUMEROS POSITIVOS E IMPRIMIR A MEDIA DOS NUMEROS DIGITADOS\n",
    "'''\n",
    "\n",
    "soma = 0\n",
    "a = 0\n",
    "num = int(input('Entre com um numero: '))\n",
    "while num > 0:\n",
    "    a += 1\n",
    "    soma += num\n",
    "    num = int(input('Entre com um numero: '))\n",
    "print(soma / a)"
   ]
  },
  {
   "cell_type": "markdown",
   "metadata": {},
   "source": [
    "### Prog_265_pag_187"
   ]
  },
  {
   "cell_type": "code",
   "execution_count": null,
   "metadata": {},
   "outputs": [],
   "source": [
    "'''\n",
    "LER VARIOS NUMEROS E INFORMAE QUANTOS NUMEROS ENTRE 100 e 200 FORAM  DIGITADOS. QUANDO O VALOR 0 (zero) FOR\n",
    "LIDO, O ALGORITMO DEVERÁ CESSAR SUA EXECUÇÃO.\n",
    "'''\n",
    "\n",
    "soma = 0\n",
    "a = 0\n",
    "print('{:=^80}'.format(' VALORES DIGITADOS '))\n",
    "num = int(input('Entre com um numero: '))\n",
    "while num != 0:\n",
    "    a +=1\n",
    "    num = int(input('Entre com um numero: '))\n",
    "    if num >= 100 and num <= 200:\n",
    "        soma += num\n",
    "print('{:=^80}'.format(' RESULTADO '))\n",
    "print('\\nVALORES ENTRE 100 e 200 FORAM SOMADOS, VALOR SOMADO É {}:'.format(soma))\n",
    "print('='*80)"
   ]
  },
  {
   "cell_type": "markdown",
   "metadata": {},
   "source": [
    "### Prog_266_pag_187"
   ]
  },
  {
   "cell_type": "code",
   "execution_count": null,
   "metadata": {},
   "outputs": [],
   "source": [
    "'''\n",
    "ENTRE COM NOMES ENQUANTO FOREM DIFRENTES DE FIM E IMPRIMIR O PRIMEIRO CARACTERE DE CADA NOME.\n",
    "'''\n",
    "\n",
    "\n",
    "lista = []\n",
    "a = 0\n",
    "nome = str(input('\\nEntre com um nome ou (Fim) para encerrar entrada de dados: ')).upper()\n",
    "while nome != 'FIM':\n",
    "    a += 1\n",
    "    #print(a)\n",
    "    lista.append(nome)\n",
    "    nome = str(input('Entre com um nome ou (Fim) para encerrar entrada de dados: ')).upper()\n",
    "print('{:=^80}'.format(' QUANTOS NOMES FORAM DIGITADOS '))\n",
    "print('FORAM DIGITADOS {} NOMES'.format(a))\n",
    "print('{:=^80}'.format(' SÃO ELES '))\n",
    "for i in range(0,a):\n",
    "    print(lista[i],end=', ')\n",
    "print('')\n",
    "print('OBRIGADOO PELAS INFORMAÇÕES')\n",
    "print('='*80)"
   ]
  },
  {
   "cell_type": "markdown",
   "metadata": {},
   "source": [
    "### Prog_268_pag_188"
   ]
  },
  {
   "cell_type": "code",
   "execution_count": null,
   "metadata": {},
   "outputs": [],
   "source": [
    "'''\n",
    "ENTAR COM SEXO DE VARIAS PESSOAS E IMPRIMIR QUANTAS PESSOAS SÃO DO SEXO MASCULINO (CONSIDERANRO M ou m)\n",
    "'''\n",
    "\n",
    "somama = 0\n",
    "somafe = 0\n",
    "a = 0\n",
    "print('='*80)\n",
    "print('\\nPARA ENCERRAR O PROCESSO DE CADASTRAMENTO DIGITE (fim) NO CAMPO NOME')\n",
    "print('\\n{:=^80}'.format(' CADASTRO '))\n",
    "nome = str(input('\\nEntre com um nome: ')).upper()\n",
    "sexo = str(input('Sexo: ')).upper()\n",
    "if sexo == 'F':\n",
    "    somafe += len(sexo)\n",
    "if sexo == 'M':\n",
    "    somama += len(sexo)\n",
    "while nome != 'FIM':\n",
    "    a += 1\n",
    "    nome = str(input('Entre com um nome: ')).upper()\n",
    "    if nome != 'FIM':\n",
    "        sexo = str(input('Sexo: ')).upper()\n",
    "        if sexo == 'F':\n",
    "            somafe += len(sexo)\n",
    "        if sexo == 'M':\n",
    "            somama += len(sexo)\n",
    "else:\n",
    "    print('='*80)\n",
    "    print('OBRIGADO PELAS INFORMAÇEÕS')\n",
    "print('='*80)\n",
    "print('FORAM DIGITADOS {} NOMES'.format(a))\n",
    "print('CONTEM {} FEMININOS \\nCONTEM {} MASCULINOS'.format(somafe,somama))\n",
    "print('='*80)\n"
   ]
  },
  {
   "cell_type": "markdown",
   "metadata": {},
   "source": [
    "### Prog_269_pag_189"
   ]
  },
  {
   "cell_type": "code",
   "execution_count": null,
   "metadata": {},
   "outputs": [],
   "source": [
    "'''\n",
    "ENTRE COM NUMEROS E IMPRIMIR O QUADRADO DE CADA NUMERO ATÉ ENTRAR UM NUMERO MULTIPLO DE 6 QUE DEVERÁ\n",
    "TER SEU QUADRADO TAMBÉM IMPRESSO.\n",
    "'''\n",
    "\n",
    "a = 0\n",
    "num = int(input('Entre com um numero: '))\n",
    "while num % 6 != 0:\n",
    "    a += 1\n",
    "    n = num ** 2\n",
    "    print('{} X {} = {}'.format(num,num,n))\n",
    "    print('=' * 80)\n",
    "    num = int(input('Entre com um numero: '))\n",
    "    if num % 6 == 0:\n",
    "        n = num ** 2\n",
    "        print('{} X {} = {}'.format(num, num, n))\n",
    "        print('=' * 80)\n",
    "print('FORAM DIGITADAS {}'.format(a+1))\n",
    "print('FINAL DO WHILE COM O RESULTADO DA ULTIMA SAIDA: {}'.format(num ** 2))\n",
    "print('='*80)\n"
   ]
  },
  {
   "cell_type": "markdown",
   "metadata": {},
   "source": [
    "### Prog_270_pag_189"
   ]
  },
  {
   "cell_type": "code",
   "execution_count": null,
   "metadata": {},
   "outputs": [],
   "source": [
    "'''\n",
    "LER VARIOS NUMEROS ATÉ ENTRAR O NUMERO 777. PARA CADA NUMERO IMPRIMIR SEUS DIVISORES\n",
    "'''\n",
    "\n",
    "a = 0\n",
    "print('='*80)\n",
    "num = int(input('Entre com um numero: '))\n",
    "print('DIVISORES DE {}'.format(num))\n",
    "while num != 777:\n",
    "    a += 1\n",
    "    for i in range(1,num+1):\n",
    "        if num % i == 0:\n",
    "            print(i,end=', ')\n",
    "    print('')\n",
    "    print('='*80)\n",
    "    num = int(input('Entre com um numero: '))\n",
    "    if num == 777:\n",
    "        print('FIM DO WHILE')\n",
    "        print('='*80)\n",
    "    else:\n",
    "        print('DIVISORES DE {}'.format(num))"
   ]
  },
  {
   "cell_type": "markdown",
   "metadata": {},
   "source": [
    "### Prog_271_pag_190"
   ]
  },
  {
   "cell_type": "code",
   "execution_count": null,
   "metadata": {},
   "outputs": [],
   "source": [
    "'''\n",
    "DADOS UM PAIS A, COM 5.000.000 DE HABILTANTES E UMA TAXA DE NATALIDADE DE 3% AO ANO E UM PAIS B, COM  7.000.000\n",
    "DE HABITANTES E UMA TAXA DE NATALIDADE DE 2% AO ANO, CALCULE E IMPRIMIR O TEMPO NECESSARIO PARA QUE A POPULAÇÃO\n",
    "DO PAIS A ULTRAPASSE A POPULAÇÃO DO PAIS B.\n",
    "'''\n",
    "\n",
    "anos = 0\n",
    "a = float(5000000)\n",
    "b = float(7000000)\n",
    "while a <= b:\n",
    "    a = a * 1.03\n",
    "    b = b * 1.02\n",
    "    anos += 1\n",
    "print('{} ANOS'.format(anos))"
   ]
  },
  {
   "cell_type": "markdown",
   "metadata": {},
   "source": [
    "### Prog_272_pag_190"
   ]
  },
  {
   "cell_type": "code",
   "execution_count": null,
   "metadata": {},
   "outputs": [],
   "source": [
    "'''\n",
    "CHICO TEM 1,50M E CRESCE 2 CENTIMETROS POR ANO, ENQUANTO JUCA TEM 1,1M E CRESCE 3 CENTIMENROS POR ANO. CONSTRUIR UM\n",
    "ALGORITIMO QUE CALCULE E IMPRIMA QUANTOS ANOS NECESSÁRIOS PARA QUE JUCA SEJA MAIOR QUE CHICO.\n",
    "'''\n",
    "\n",
    "\n",
    "ch = float(1.5)\n",
    "ju = float(1.1)\n",
    "anos = 0\n",
    "while ju <= ch:\n",
    "    ch = ch * 0.02\n",
    "    ju = ju * 0.03\n",
    "    anos =+ 1\n",
    "print(anos)"
   ]
  },
  {
   "cell_type": "markdown",
   "metadata": {},
   "source": [
    "### Prog_273_pag_191"
   ]
  },
  {
   "cell_type": "code",
   "execution_count": null,
   "metadata": {},
   "outputs": [],
   "source": [
    "'''\n",
    "UMA EMPRESA DE FORNECIMENTO DE ENERGIA ELETRICA FAZ A LEITURA MENSAL DOS MEDIDORES DE COSUMO. PARA CADA CONSUMIDOR\n",
    "SÃO DIGITADOS OS SEGUINTES DADOS\n",
    "# NÚMERO DE CONSUMIDOR\n",
    "# QUANTIDADE DE KWh CONSUMIDOS DURANTE O MÊS\n",
    "# TIPO (CODIGO) DO CONSUMIDOR\n",
    "1 - RESIDENCIAL, PREÇO EM REIS POR KWh = 0,3\n",
    "2 - COMERCIAL, PREÇO EM REAIS POR KWh = 0,5\n",
    "3 - INDUSTRIAL, PREÇO  EM REAIS POR KWh = 0,7\n",
    "OS DADOS DEVEM SER LIDOS ATÉ QUE SEJA ENCONTRADO UM CONSUMIDOR COM O NÚMERO 0 (ZERO). CALCULAR E IMPRIMIR.\n",
    "# O CUSTO TOTAL PARA CADA COSUMIDOR\n",
    "# O TOTAL DE CONSUMIDOR PARA OS TRÊS TIPOS DE CONSUMIDOR\n",
    "# A MEDIA DE CONSUMO DOS TIPOS 1 e 2\n",
    "'''\n",
    "cont = str\n",
    "c12 = 0\n",
    "total = 0\n",
    "total12 = 0\n",
    "mes = 0\n",
    "cod = 0\n",
    "print('\\n{:=^100}'.format(' NUMERO DO CODIGO '))\n",
    "print('1 = RESIDENCIAL'\n",
    "      '\\n2 = COMERCIAL'\n",
    "      '\\n3 = INDUSTRIAL'\n",
    "      '\\n0 = SEM CODIGO')\n",
    "cod = int(input('Informe o sue codigo: '))\n",
    "while cod != 0:\n",
    "    if cod >= 1 and cod <= 20:\n",
    "        total += 1\n",
    "        quant = float(input('Digite a Quantidade de KWh: '))\n",
    "        print('=' * 80)\n",
    "        print('1 - RESIDENCIAL')\n",
    "        print('CODIGO DO CONSUMIDOR = {}'.format(cod))\n",
    "        print('PREÇO EM REAIS POR KWh R$ {}'.format(quant * 0.3))\n",
    "        mes = (quant * 0.3) * 30\n",
    "        print('QUANTIDADE DE {} KWh CONSUMIDOS DURANTE O MÊS É R${:.2f}'.format(quant,mes))\n",
    "        cont = str(input('Continuar |S| ou |N| ? ')).upper()\n",
    "        if cont == 'S':\n",
    "            print('OK... Continue digitando!')\n",
    "        else:\n",
    "            cod = 0\n",
    "            print('Volte sempre!')\n",
    "        print('1 - RESIDENCIAL', total)\n",
    "    else:\n",
    "        if cod >= 21 and cod <= 40:\n",
    "            total += 1\n",
    "            quant = float(input('Digite a Quantidade de KWh: '))\n",
    "            print('='*80)\n",
    "            print('CODIGO 2 - COMERCIAL')\n",
    "            print('CODIGO DO CONSUMIDOR = {}'.format(cod))\n",
    "            print('PREÇO EM REAIS PRO KWh R$ {}'.format(quant * 0.5))\n",
    "            mes = (quant * 0.5) * 30\n",
    "            mes += 1\n",
    "            print(mes)\n",
    "            print('QUANTIDADE DE {} KWh CONSUMIDAS DURANTE O MÊS É R${:.2f}'.format(quant,mes))\n",
    "            cont = str(input('Continuar |S| ou |N| ? ')).upper()\n",
    "            if cont == 'S':\n",
    "                print('OK... Continue digitando!')\n",
    "            else:\n",
    "                cod = 0\n",
    "                print('Volte sempre!')\n",
    "            print('{:=^80}'.format(' RESULTADO '))\n",
    "            print('COMERCIAL')\n",
    "        print('TOTAL DE ITENS DIGITADOS', total)\n",
    "        print('TOTAL DE CONSUMO DOS {} ITENS DIGITADOS {}'.format(total,mes))\n",
    "print('Obrigado...')\n",
    "print('='*80)"
   ]
  },
  {
   "cell_type": "markdown",
   "metadata": {},
   "source": [
    "### Prog_274_pag_192"
   ]
  },
  {
   "cell_type": "code",
   "execution_count": null,
   "metadata": {},
   "outputs": [],
   "source": [
    "'''\n",
    "CRIAR UM ALGORITMO QUE DEIXE ENTRAR COM 10 NUMEROS POSITIVOS E IMPRIMIR A RAIZ QUADRADA DE CADA NUMERO. PARA\n",
    "CADA ENTRADA DE DADOS DEVERÁ HAVER UM TRECHO DE PROTEÇÃO PARA QUE UM NUMERO NEGATIVO NÃO SEJA ACEITA.\n",
    "'''\n",
    "result = int\n",
    "for i in range(1,10+1):\n",
    "    num = int(input('Digite um numero: '))\n",
    "    while num <= 0:\n",
    "        print('{:=^100}'.format(' ERRO '))\n",
    "        num = int(input('Você digitou um numero menor ou igual a zero'\n",
    "                        '\\nDigite um numero: '))\n",
    "    print('='*100)\n",
    "    result = num ** 2\n",
    "    print('RAIZ QUADRADA DE {} = {}'.format(num,result))"
   ]
  },
  {
   "cell_type": "markdown",
   "metadata": {},
   "source": [
    "### Prog_276_pag_193"
   ]
  },
  {
   "cell_type": "code",
   "execution_count": null,
   "metadata": {},
   "outputs": [],
   "source": [
    "'''\n",
    "ENTRAR COM A IDADE DE VARIAS PESSOAS E IMPRIMIR\n",
    "# TOTAL DE PESSOAS COM MENOS DE 21 ANOS\n",
    "# TOTAL DE PESSOAS COM MAIS DE 50 ANOS\n",
    "'''\n",
    "\n",
    "somaA = 0\n",
    "somaB = 0\n",
    "res = 0\n",
    "idad = str(input(\"Digite uma idade: \")).upper()\n",
    "idad = int(idad)\n",
    "while idad >= 0 and idad <= 150:\n",
    "    if idad < 21:\n",
    "        somaA += 1\n",
    "    else:\n",
    "        if idad > 50:\n",
    "            somaB += 1\n",
    "    res = somaA + somaB\n",
    "    res += 1\n",
    "    idad = str(input('Digite uma idade: ')).upper()\n",
    "    if idad == 'S':\n",
    "        idad = -1\n",
    "    idad = int(idad)\n",
    "    if res % 4 == 0:\n",
    "        idad = str(input('Quer continuar? ')).upper()\n",
    "        if idad != 'S':\n",
    "            idad = -1\n",
    "            idad = int(idad)\n",
    "        else:\n",
    "            idad = str(input('Digite uma idade: '))\n",
    "            idad = int(idad)\n",
    "\n",
    "print(somaA)\n",
    "print(somaB)\n"
   ]
  },
  {
   "cell_type": "markdown",
   "metadata": {},
   "source": [
    "### Prog_277_pag_193"
   ]
  },
  {
   "cell_type": "code",
   "execution_count": null,
   "metadata": {},
   "outputs": [],
   "source": [
    "'''\n",
    "ENTRAR COM VARIOS NÚMEROS E VERIFICAR SE ELES SÃO OU NÃO QUADRADOS PERFEITOS. O ALGORITMO TERMINA QUANDO SE DIGITA UM\n",
    "NUMERO MENOR OU IGUAL A 0.\n",
    "UM NUMERO É QUADRADO PERFEITO QUANDO TEM UM NUMERO INTEIRO COMO RAIZ QUADRADA\n",
    "'''\n",
    "\n",
    "c = str\n",
    "print('\\n{:=^80}'.format(' POR FAVOR ENTRE COM UM NUMERO MENOR QUE ZERO ABAIXO '))\n",
    "num =int(input('\\nDigite um numero maior que Zero: '))\n",
    "if num <= 0:\n",
    "    print('Obrigado ... ')\n",
    "while num > 0:\n",
    "   resexp = num ** 2\n",
    "   res = num ** (1/2)\n",
    "   print('\\n{:=^80}'.format(' RESULTADO DO EXPOENTE E DA RAIZ '))\n",
    "   print('Expoente =',resexp)\n",
    "   print('Raiz =',res)\n",
    "   print('='*80)\n",
    "   for i in range(1,(num*2)+1):\n",
    "       i += 0\n",
    "       raiz = i ** (1/2)\n",
    "       if raiz % 1 == 0:\n",
    "          c = ' QUADRADO PERFEITO'\n",
    "       else:\n",
    "          c = ' QUADRADO NÃO PERFEITO'\n",
    "       print('Raiz de {: ^2} = {:.2} é {:=>40}'.format(i,raiz,c))\n",
    "   print('{:=^80}'.format(' QUANTIDADE DE INTERVALOS '))\n",
    "   print('Intervalo de {} Numeros'.format(i))\n",
    "   print('='*80)\n",
    "   num = int(input('\\nDigite um numero maior que 0: '))\n",
    "   if num <= 0:\n",
    "       print('Obrigado ... ')"
   ]
  },
  {
   "cell_type": "markdown",
   "metadata": {},
   "source": [
    "### Prog_278_pag_194"
   ]
  },
  {
   "cell_type": "code",
   "execution_count": null,
   "metadata": {},
   "outputs": [],
   "source": [
    "'''\n",
    "ENTRE COM UM NUMERO E VERIFIQUE SE ELE E UM NUMERO PRIMO\n",
    "'''\n",
    "\n",
    "tot = 0\n",
    "cont = 0\n",
    "num = int(input('\\nEntre com um numero : '))\n",
    "print('{:=^80}'.format(' MULTIPLOS DO NUMERO INFORAMDO '))\n",
    "while num > cont:\n",
    "    cont += 1\n",
    "    if num % cont == 0:\n",
    "        print('\\033[33m',end='')\n",
    "        tot += 1\n",
    "    else:\n",
    "        print('\\033[36m',end='')\n",
    "    if cont % 10 == 1:\n",
    "        print('')\n",
    "    print(cont, end=' ')\n",
    "    if cont == num:\n",
    "        print('')\n",
    "        print('='*80)\n",
    "        print('\\nNUMERO DIGITADO:',num)\n",
    "        if tot == 2:\n",
    "            print('\\nÉ PRIMO')\n",
    "        else:\n",
    "            print('\\nNÃO É PRIMO')\n",
    "\n",
    "        print('='*80)\n"
   ]
  },
  {
   "cell_type": "markdown",
   "metadata": {},
   "source": [
    "### Prog_279_pag_194"
   ]
  },
  {
   "cell_type": "code",
   "execution_count": null,
   "metadata": {},
   "outputs": [],
   "source": [
    "'''\n",
    "ESCREVER UM ALGORITMO QUE RECEBA VARIOS NUMEROS INTEIROS E IMPRIMA A QUANTIDADE DE NUMEROS PRIMOS DENTRE OS NUMEROS\n",
    "QUE FORAM DIGITADOS. O ALGORITMO ACABA QUANDO SE DIGITAR UM NUMERO MENOR OU IGUAL A 0(ZERO).\n",
    "'''\n",
    "\n",
    "\n",
    "total = 0\n",
    "lista = []\n",
    "cont = 0\n",
    "num = int(input('Entre com um numero: '))\n",
    "while num > 0:\n",
    "    for i in range(1,num+1):\n",
    "        if num % i == 0:\n",
    "            print(i)\n",
    "    num = int(input('\\nEntre com um numero: '))\n",
    "if num <= 0:\n",
    "    print('{}'.format(lista))\n",
    "print('Obrigado ..... ')"
   ]
  },
  {
   "cell_type": "markdown",
   "metadata": {},
   "source": [
    "### Prog_280_pag_195"
   ]
  },
  {
   "cell_type": "code",
   "execution_count": null,
   "metadata": {},
   "outputs": [],
   "source": [
    "'''\n",
    "ENTRE COM UM NUMERO E VERIFIQUE SE ELE É UM NUMERO TRIANGULO\n",
    "UM NUMERO É TRIANGULO QUANDO É RESULTADO DO PRODUTO DE TRÊS NUMEROS CONSECUTIVOS\n",
    "EXEMPLO: 24 = 2X3X4\n",
    "'''\n",
    "\n",
    "cont = 1\n",
    "num = int(input('Entre com um numero: '))\n",
    "while cont < num:\n",
    "    cont += 1\n",
    "    #print(cont,end=' ')\n",
    "    p = cont * (cont + 1) * (cont + 2)\n",
    "    #print(p)\n",
    "    if p == num:\n",
    "        p1 = p\n",
    "    else:\n",
    "        p2 = p"
   ]
  },
  {
   "cell_type": "markdown",
   "metadata": {},
   "source": [
    "### Prog_281_pag_196"
   ]
  },
  {
   "cell_type": "code",
   "execution_count": null,
   "metadata": {},
   "outputs": [],
   "source": [
    "'''\n",
    "ENTRAR COM VARIOS NÚMEROS E IMPRIMIR O MAIOR NÚMERO . O ALGORITMO ACABA QUANDO SE DIGITA -9999\n",
    "'''\n",
    "\n",
    "\n",
    "num = int(input('\\nDigite numero ou -9999 para encerrar: '))\n",
    "maior = num\n",
    "while num != -9999:\n",
    "    if num > maior:\n",
    "        maior = num\n",
    "    num = int(input('Digite numero ou -9999 para encerrar: '))\n",
    "print('{:=^80}'.format(' RESULTADO DO MAIOR '))\n",
    "print('{} É O MAIOR'.format(maior))"
   ]
  },
  {
   "cell_type": "markdown",
   "metadata": {},
   "source": [
    "### Prog_283_pag_197"
   ]
  },
  {
   "cell_type": "code",
   "execution_count": null,
   "metadata": {},
   "outputs": [],
   "source": [
    "'''\n",
    "UMA AGENCIA DE UMA CIDADE DO INTERIOR TEM , NO MAXIMO 10.000 CLIENTES . CRIAR UM ALGORITMO QUE POSSA ENTRAR COM NÚMERO\n",
    "DA CONTA, NOME E SALDO DE CADA CLIENTE. IMPRIMIR TODAS AS CONTAS , OS RESPCTIVOS SALDOS E UMA DAS MENSAGENS : POSITIVO /\n",
    "NEGATIVO . A DIGITAÇÃO ACABA QUANDO SE DIGITA -777 PARA NÚMERO DA CONTA OU QUANDO CHEGAR A 10.000. AO FINAL, DEVERÃO\n",
    "SAIR O TOTAL DE CLIENTES COM SALDO  NEGATIVO, O TOTAL DE CLIENTES DA AGENCIA E O SALDO DA AGENCIA.\n",
    "'''\n",
    "\n",
    "\n",
    "c = 0\n",
    "cpos = 0\n",
    "cneg = 0\n",
    "num = int(input('\\nDigite o numero da conta ou -777 para encerrar: '))\n",
    "if num > 0 and num < 10000:\n",
    "    while num > 0 and num < 10000:\n",
    "        c += 1\n",
    "        nome = str(input('Nome: '))\n",
    "        saldo = int(input('Saldo: '))\n",
    "        if saldo < 0:\n",
    "            cneg += 1\n",
    "            print('\\nSaldo {} NEGATIVO'.format(saldo))\n",
    "            print('='*80)\n",
    "        else:\n",
    "            cpos += 1\n",
    "            print('\\nSaldo {} positovo'.format(saldo))\n",
    "            print('='*80)\n",
    "        num = int(input('Digite o numero da conta ou -777 para encerrar: '))\n",
    "    print('\\n{:=^80}'.format(' RESULTADO '))\n",
    "    print('Total de clientes negativos = {}'.format(cneg))\n",
    "    print('Total de cliente positivos = {}'.format(cpos))\n",
    "    print('Total de Contas Informadas: {}'.format(c))\n",
    "print('\\nObrigado!')\n",
    "print('='*80)\n"
   ]
  },
  {
   "cell_type": "markdown",
   "metadata": {},
   "source": [
    "### Prog_284_pag_197"
   ]
  },
  {
   "cell_type": "code",
   "execution_count": null,
   "metadata": {},
   "outputs": [],
   "source": [
    "'''\n",
    "CRIAR UM ALGORITMO QUE LEIA UMA SEQUENCIA DE NÚMEROS TERMINADA POR 0 E IMPRIMIR O NUMERO QUE FOR MULTIPLO\n",
    "DE SUA POSIÇÃO NA SEQUNCIA.\n",
    "EXEMPLO:\n",
    "VALORES: 3 7 8 16\n",
    "POSIÇÃO: 1 2 3 4\n",
    "IMPRESSÃO: 3 16\n",
    "'''\n",
    "\n",
    "\n",
    "list = []\n",
    "list2 = []\n",
    "list3 = []\n",
    "cont = 1\n",
    "num = int(input('Digite um numero ou zero para encerrar: '))\n",
    "list.append(num)\n",
    "list2.append(cont)\n",
    "while num != 0:\n",
    "    num = int(input('Digite um numero ou zero para encerrar: '))\n",
    "    str(list.append(num))\n",
    "    cont += 1\n",
    "    str(list2.append(cont))\n",
    "    if num % cont == 0:\n",
    "        str(list3.append(num))\n",
    "print('Valores: ',list[0:cont])\n",
    "print('Posição: ',list2[:cont])\n",
    "print(list3[:cont])\n"
   ]
  }
 ],
 "metadata": {
  "kernelspec": {
   "display_name": "Python 3",
   "language": "python",
   "name": "python3"
  },
  "language_info": {
   "codemirror_mode": {
    "name": "ipython",
    "version": 3
   },
   "file_extension": ".py",
   "mimetype": "text/x-python",
   "name": "python",
   "nbconvert_exporter": "python",
   "pygments_lexer": "ipython3",
   "version": "3.7.3"
  }
 },
 "nbformat": 4,
 "nbformat_minor": 2
}
